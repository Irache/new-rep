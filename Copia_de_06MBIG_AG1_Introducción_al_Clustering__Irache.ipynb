{
  "nbformat": 4,
  "nbformat_minor": 0,
  "metadata": {
    "colab": {
      "name": "Copia de 06MBIG - AG1 - Introducción al Clustering _Irache",
      "version": "0.3.2",
      "provenance": [],
      "collapsed_sections": [],
      "toc_visible": true,
      "include_colab_link": true
    },
    "kernelspec": {
      "name": "python3",
      "display_name": "Python 3"
    }
  },
  "cells": [
    {
      "cell_type": "markdown",
      "metadata": {
        "id": "view-in-github",
        "colab_type": "text"
      },
      "source": [
        "<a href=\"https://colab.research.google.com/github/Irache/new-rep/blob/master/Copia_de_06MBIG_AG1_Introducci%C3%B3n_al_Clustering__Irache.ipynb\" target=\"_parent\"><img src=\"https://colab.research.google.com/assets/colab-badge.svg\" alt=\"Open In Colab\"/></a>"
      ]
    },
    {
      "metadata": {
        "id": "Ti5Wnz3cgkRD",
        "colab_type": "text"
      },
      "cell_type": "markdown",
      "source": [
        "#  Introducción al Clustering"
      ]
    },
    {
      "metadata": {
        "id": "3wbjJ1PrhsIJ",
        "colab_type": "text"
      },
      "cell_type": "markdown",
      "source": [
        "Como problema de partida de ejemplo de como aplicar diferentes algoritmos de clustering vamos a utilizar unos datos del Producto Interior Bruto de los Estados de Estados Unidos en 2009. Los datos están en [Enlace](https://drive.google.com/open?id=1Rb_7eNacmktJM3RqETQmSLysXYjk5EDG)"
      ]
    },
    {
      "metadata": {
        "id": "g45HwKwiuUvB",
        "colab_type": "text"
      },
      "cell_type": "markdown",
      "source": [
        "# Preproceso Básico"
      ]
    },
    {
      "metadata": {
        "id": "7MuA3s__b6SI",
        "colab_type": "code",
        "colab": {}
      },
      "cell_type": "code",
      "source": [
        ""
      ],
      "execution_count": 0,
      "outputs": []
    },
    {
      "metadata": {
        "id": "6Kdlqkdtb6wm",
        "colab_type": "text"
      },
      "cell_type": "markdown",
      "source": [
        ""
      ]
    },
    {
      "metadata": {
        "id": "bHw2kQQPb7Qm",
        "colab_type": "code",
        "colab": {}
      },
      "cell_type": "code",
      "source": [
        ""
      ],
      "execution_count": 0,
      "outputs": []
    },
    {
      "metadata": {
        "id": "EqpW7cG5n4HB",
        "colab_type": "text"
      },
      "cell_type": "markdown",
      "source": [
        "Antes de empezar cualquier análisis hay que asegurar que las librerías básicas y de uso general (numpy, pandas, etc.) están correctamente importadas. "
      ]
    },
    {
      "metadata": {
        "id": "Gu5L38kVoJsN",
        "colab_type": "text"
      },
      "cell_type": "markdown",
      "source": [
        "También asegurarse de que dentro del entorno están las librerías actualizadas lo cual puede ser imprescindible en algunos momentos, como en este caso sucede con la librería de visualización *seaborn*"
      ]
    },
    {
      "metadata": {
        "id": "QmoGAR-EY0WF",
        "colab_type": "code",
        "outputId": "58b2c5fa-2991-4a22-c31c-6d838646920b",
        "colab": {
          "base_uri": "https://localhost:8080/",
          "height": 425
        }
      },
      "cell_type": "code",
      "source": [
        "!pip install seaborn --upgrade"
      ],
      "execution_count": 1,
      "outputs": [
        {
          "output_type": "stream",
          "text": [
            "Collecting seaborn\n",
            "\u001b[?25l  Downloading https://files.pythonhosted.org/packages/a8/76/220ba4420459d9c4c9c9587c6ce607bf56c25b3d3d2de62056efe482dadc/seaborn-0.9.0-py3-none-any.whl (208kB)\n",
            "\u001b[K    100% |████████████████████████████████| 215kB 28.3MB/s \n",
            "\u001b[?25hRequirement already satisfied, skipping upgrade: numpy>=1.9.3 in /usr/local/lib/python3.6/dist-packages (from seaborn) (1.14.6)\n",
            "Requirement already satisfied, skipping upgrade: pandas>=0.15.2 in /usr/local/lib/python3.6/dist-packages (from seaborn) (0.22.0)\n",
            "Requirement already satisfied, skipping upgrade: scipy>=0.14.0 in /usr/local/lib/python3.6/dist-packages (from seaborn) (1.1.0)\n",
            "Requirement already satisfied, skipping upgrade: matplotlib>=1.4.3 in /usr/local/lib/python3.6/dist-packages (from seaborn) (3.0.2)\n",
            "Requirement already satisfied, skipping upgrade: pytz>=2011k in /usr/local/lib/python3.6/dist-packages (from pandas>=0.15.2->seaborn) (2018.9)\n",
            "Requirement already satisfied, skipping upgrade: python-dateutil>=2 in /usr/local/lib/python3.6/dist-packages (from pandas>=0.15.2->seaborn) (2.5.3)\n",
            "Requirement already satisfied, skipping upgrade: cycler>=0.10 in /usr/local/lib/python3.6/dist-packages (from matplotlib>=1.4.3->seaborn) (0.10.0)\n",
            "Requirement already satisfied, skipping upgrade: pyparsing!=2.0.4,!=2.1.2,!=2.1.6,>=2.0.1 in /usr/local/lib/python3.6/dist-packages (from matplotlib>=1.4.3->seaborn) (2.3.1)\n",
            "Requirement already satisfied, skipping upgrade: kiwisolver>=1.0.1 in /usr/local/lib/python3.6/dist-packages (from matplotlib>=1.4.3->seaborn) (1.0.1)\n",
            "Requirement already satisfied, skipping upgrade: six>=1.5 in /usr/local/lib/python3.6/dist-packages (from python-dateutil>=2->pandas>=0.15.2->seaborn) (1.11.0)\n",
            "Requirement already satisfied, skipping upgrade: setuptools in /usr/local/lib/python3.6/dist-packages (from kiwisolver>=1.0.1->matplotlib>=1.4.3->seaborn) (40.8.0)\n",
            "Installing collected packages: seaborn\n",
            "  Found existing installation: seaborn 0.7.1\n",
            "    Uninstalling seaborn-0.7.1:\n",
            "      Successfully uninstalled seaborn-0.7.1\n",
            "Successfully installed seaborn-0.9.0\n"
          ],
          "name": "stdout"
        },
        {
          "output_type": "display_data",
          "data": {
            "application/vnd.colab-display-data+json": {
              "pip_warning": {
                "packages": [
                  "seaborn"
                ]
              }
            }
          },
          "metadata": {
            "tags": []
          }
        }
      ]
    },
    {
      "metadata": {
        "id": "QcqAjsMIKluO",
        "colab_type": "code",
        "colab": {}
      },
      "cell_type": "code",
      "source": [
        "import matplotlib.pyplot as plt\n",
        "import numpy\n",
        "import itertools\n",
        "import seaborn as sns"
      ],
      "execution_count": 0,
      "outputs": []
    },
    {
      "metadata": {
        "id": "fvxDPxPhheSW",
        "colab_type": "text"
      },
      "cell_type": "markdown",
      "source": [
        "## Carga de Datos"
      ]
    },
    {
      "metadata": {
        "id": "AygZwiVvg6WE",
        "colab_type": "text"
      },
      "cell_type": "markdown",
      "source": [
        "En primer lugar cargamos los datos dentro del entorno con las funcionalidades que nos permite Google Colab"
      ]
    },
    {
      "metadata": {
        "id": "RBK-O9mTgglR",
        "colab_type": "code",
        "outputId": "b9e9c760-9c8c-41b3-87ba-272431607098",
        "colab": {
          "resources": {
            "http://localhost:8080/nbextensions/google.colab/files.js": {
              "data": "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",
              "ok": true,
              "headers": [
                [
                  "content-type",
                  "application/javascript"
                ]
              ],
              "status": 200,
              "status_text": ""
            }
          },
          "base_uri": "https://localhost:8080/",
          "height": 89
        }
      },
      "cell_type": "code",
      "source": [
        "# 0.1 load data from file\n",
        "from google.colab import files\n",
        "\n",
        "uploaded = files.upload()\n",
        "\n",
        "for fn in uploaded.keys():\n",
        "  print('User uploaded file \"{name}\" with length {length} bytes'.format(\n",
        "      name=fn, length=len(uploaded[fn])))"
      ],
      "execution_count": 2,
      "outputs": [
        {
          "output_type": "display_data",
          "data": {
            "text/html": [
              "\n",
              "     <input type=\"file\" id=\"files-f5a41e87-e26f-4e83-b3b6-65955f89307d\" name=\"files[]\" multiple disabled />\n",
              "     <output id=\"result-f5a41e87-e26f-4e83-b3b6-65955f89307d\">\n",
              "      Upload widget is only available when the cell has been executed in the\n",
              "      current browser session. Please rerun this cell to enable.\n",
              "      </output>\n",
              "      <script src=\"/nbextensions/google.colab/files.js\"></script> "
            ],
            "text/plain": [
              "<IPython.core.display.HTML object>"
            ]
          },
          "metadata": {
            "tags": []
          }
        },
        {
          "output_type": "stream",
          "text": [
            "Saving 2009pivot.csv to 2009pivot.csv\n",
            "User uploaded file \"2009pivot.csv\" with length 5329 bytes\n"
          ],
          "name": "stdout"
        }
      ]
    },
    {
      "metadata": {
        "id": "7jvD1yDjhASV",
        "colab_type": "text"
      },
      "cell_type": "markdown",
      "source": [
        "Posteriormente utilizamos la librería [Pandas](https://pandas.pydata.org/) con el fin de poder manejar los datos en una estructura denominada DataFrame\n"
      ]
    },
    {
      "metadata": {
        "id": "4QQ6WZ3qhJLw",
        "colab_type": "code",
        "colab": {}
      },
      "cell_type": "code",
      "source": [
        "# 0.2 load data in DataFrame\n",
        "import pandas as pd\n",
        "import io\n",
        "df = pd.read_csv(io.StringIO(uploaded[fn].decode('utf-8')), index_col='State')\n",
        "\n",
        "\n"
      ],
      "execution_count": 0,
      "outputs": []
    },
    {
      "metadata": {
        "id": "AmVjogvpw03t",
        "colab_type": "code",
        "outputId": "aaf4cfc7-aea0-4f1e-bb07-e49fafd62d25",
        "colab": {
          "base_uri": "https://localhost:8080/",
          "height": 272
        }
      },
      "cell_type": "code",
      "source": [
        "df.head()"
      ],
      "execution_count": 4,
      "outputs": [
        {
          "output_type": "execute_result",
          "data": {
            "text/html": [
              "<div>\n",
              "<style scoped>\n",
              "    .dataframe tbody tr th:only-of-type {\n",
              "        vertical-align: middle;\n",
              "    }\n",
              "\n",
              "    .dataframe tbody tr th {\n",
              "        vertical-align: top;\n",
              "    }\n",
              "\n",
              "    .dataframe thead th {\n",
              "        text-align: right;\n",
              "    }\n",
              "</style>\n",
              "<table border=\"1\" class=\"dataframe\">\n",
              "  <thead>\n",
              "    <tr style=\"text-align: right;\">\n",
              "      <th></th>\n",
              "      <th>Agriculture</th>\n",
              "      <th>Mining</th>\n",
              "      <th>Utilities</th>\n",
              "      <th>Construction</th>\n",
              "      <th>Manufacturing</th>\n",
              "      <th>Wholesale trade</th>\n",
              "      <th>Retail</th>\n",
              "      <th>Transportation</th>\n",
              "      <th>Information</th>\n",
              "      <th>Finance</th>\n",
              "      <th>Buss. Services</th>\n",
              "      <th>Education</th>\n",
              "      <th>Arts</th>\n",
              "      <th>Oth Serv.</th>\n",
              "      <th>Fed. civ</th>\n",
              "      <th>Fed. military</th>\n",
              "      <th>State.1</th>\n",
              "    </tr>\n",
              "    <tr>\n",
              "      <th>State</th>\n",
              "      <th></th>\n",
              "      <th></th>\n",
              "      <th></th>\n",
              "      <th></th>\n",
              "      <th></th>\n",
              "      <th></th>\n",
              "      <th></th>\n",
              "      <th></th>\n",
              "      <th></th>\n",
              "      <th></th>\n",
              "      <th></th>\n",
              "      <th></th>\n",
              "      <th></th>\n",
              "      <th></th>\n",
              "      <th></th>\n",
              "      <th></th>\n",
              "      <th></th>\n",
              "    </tr>\n",
              "  </thead>\n",
              "  <tbody>\n",
              "    <tr>\n",
              "      <th>Alabama</th>\n",
              "      <td>2040</td>\n",
              "      <td>2982</td>\n",
              "      <td>4965</td>\n",
              "      <td>7866</td>\n",
              "      <td>25444</td>\n",
              "      <td>9712</td>\n",
              "      <td>12287</td>\n",
              "      <td>4471</td>\n",
              "      <td>4244</td>\n",
              "      <td>25185</td>\n",
              "      <td>16090</td>\n",
              "      <td>12957</td>\n",
              "      <td>4826</td>\n",
              "      <td>4694</td>\n",
              "      <td>7174</td>\n",
              "      <td>4367</td>\n",
              "      <td>19746</td>\n",
              "    </tr>\n",
              "    <tr>\n",
              "      <th>Alaska</th>\n",
              "      <td>305</td>\n",
              "      <td>14327</td>\n",
              "      <td>612</td>\n",
              "      <td>2143</td>\n",
              "      <td>1867</td>\n",
              "      <td>1026</td>\n",
              "      <td>1943</td>\n",
              "      <td>4510</td>\n",
              "      <td>948</td>\n",
              "      <td>5416</td>\n",
              "      <td>2884</td>\n",
              "      <td>2757</td>\n",
              "      <td>1273</td>\n",
              "      <td>737</td>\n",
              "      <td>1882</td>\n",
              "      <td>2398</td>\n",
              "      <td>4929</td>\n",
              "    </tr>\n",
              "    <tr>\n",
              "      <th>Arizona</th>\n",
              "      <td>1528</td>\n",
              "      <td>4687</td>\n",
              "      <td>5677</td>\n",
              "      <td>13167</td>\n",
              "      <td>20026</td>\n",
              "      <td>14283</td>\n",
              "      <td>18439</td>\n",
              "      <td>6859</td>\n",
              "      <td>6559</td>\n",
              "      <td>51282</td>\n",
              "      <td>27353</td>\n",
              "      <td>22549</td>\n",
              "      <td>10487</td>\n",
              "      <td>5231</td>\n",
              "      <td>6247</td>\n",
              "      <td>3833</td>\n",
              "      <td>25123</td>\n",
              "    </tr>\n",
              "    <tr>\n",
              "      <th>Arkansas</th>\n",
              "      <td>2537</td>\n",
              "      <td>2249</td>\n",
              "      <td>2467</td>\n",
              "      <td>4266</td>\n",
              "      <td>14010</td>\n",
              "      <td>7257</td>\n",
              "      <td>7070</td>\n",
              "      <td>4120</td>\n",
              "      <td>10864</td>\n",
              "      <td>14879</td>\n",
              "      <td>8641</td>\n",
              "      <td>8432</td>\n",
              "      <td>2797</td>\n",
              "      <td>2283</td>\n",
              "      <td>2326</td>\n",
              "      <td>1148</td>\n",
              "      <td>10494</td>\n",
              "    </tr>\n",
              "    <tr>\n",
              "      <th>California</th>\n",
              "      <td>25439</td>\n",
              "      <td>20279</td>\n",
              "      <td>27999</td>\n",
              "      <td>65707</td>\n",
              "      <td>229479</td>\n",
              "      <td>100603</td>\n",
              "      <td>109363</td>\n",
              "      <td>41864</td>\n",
              "      <td>134655</td>\n",
              "      <td>406685</td>\n",
              "      <td>236025</td>\n",
              "      <td>133118</td>\n",
              "      <td>71649</td>\n",
              "      <td>42069</td>\n",
              "      <td>34009</td>\n",
              "      <td>29132</td>\n",
              "      <td>198300</td>\n",
              "    </tr>\n",
              "  </tbody>\n",
              "</table>\n",
              "</div>"
            ],
            "text/plain": [
              "            Agriculture  Mining  Utilities  Construction  Manufacturing  \\\n",
              "State                                                                     \n",
              "Alabama            2040    2982       4965          7866          25444   \n",
              "Alaska              305   14327        612          2143           1867   \n",
              "Arizona            1528    4687       5677         13167          20026   \n",
              "Arkansas           2537    2249       2467          4266          14010   \n",
              "California        25439   20279      27999         65707         229479   \n",
              "\n",
              "            Wholesale trade  Retail  Transportation  Information  Finance  \\\n",
              "State                                                                       \n",
              "Alabama                9712   12287            4471         4244    25185   \n",
              "Alaska                 1026    1943            4510          948     5416   \n",
              "Arizona               14283   18439            6859         6559    51282   \n",
              "Arkansas               7257    7070            4120        10864    14879   \n",
              "California           100603  109363           41864       134655   406685   \n",
              "\n",
              "            Buss. Services  Education   Arts  Oth Serv.  Fed. civ  \\\n",
              "State                                                               \n",
              "Alabama              16090      12957   4826       4694      7174   \n",
              "Alaska                2884       2757   1273        737      1882   \n",
              "Arizona              27353      22549  10487       5231      6247   \n",
              "Arkansas              8641       8432   2797       2283      2326   \n",
              "California          236025     133118  71649      42069     34009   \n",
              "\n",
              "            Fed. military  State.1  \n",
              "State                               \n",
              "Alabama              4367    19746  \n",
              "Alaska               2398     4929  \n",
              "Arizona              3833    25123  \n",
              "Arkansas             1148    10494  \n",
              "California          29132   198300  "
            ]
          },
          "metadata": {
            "tags": []
          },
          "execution_count": 4
        }
      ]
    },
    {
      "metadata": {
        "id": "2IVR7NZrh6Qe",
        "colab_type": "text"
      },
      "cell_type": "markdown",
      "source": [
        "Estos datos contienen para cada uno de los estados (*State*) las diferentes cantidades en producto interior bruto dentro de categorías que denominaríamos de nivel 2 de agregación, es decir, son una desagragción de niveles superiores. De esta forma encontramos datos como el PIB de Agricultura, Minería, Construcción, Comercio, etc. "
      ]
    },
    {
      "metadata": {
        "id": "dLHVkSQYiaCE",
        "colab_type": "text"
      },
      "cell_type": "markdown",
      "source": [
        "Una vez que contamos con el DataFrame de Pandas podríamos analizar qué características necesitamos y cuales deberíamos excluir. En este caso nos vamos a quedar con todas, aunque no todas sean significativas. "
      ]
    },
    {
      "metadata": {
        "id": "zKcv9pU2jn7f",
        "colab_type": "text"
      },
      "cell_type": "markdown",
      "source": [
        "## Transformaciones previas\n",
        "\n",
        "Como consideración previa necesitamos transformar los datos a una misma escala, por ejemplo [0,1]. Esto es así porque diferentes items de nuestras características pueden tener ordenes de dimensión diferentes. Este proceso no siempre es necesario sobre todo si nos encontramos con variables que ya están en esa esa escala. \n",
        "\n",
        "En este caso vamos a optar por utilizar la operación [MinMaxScaler](http://scikit-learn.org/stable/modules/generated/sklearn.preprocessing.MinMaxScaler.html), que pretende transformar a una escala con mínimo = 0 y máximo = 1. Esto puede generar cierta distorsión en los datos pero que puede ser conveniente para conseguir mejores resultados de clustering.  Otras opciones para reducir esta distorsión sería utilizar [MaxAbsScaler](http://scikit-learn.org/stable/modules/generated/sklearn.preprocessing.MaxAbsScaler.html#sklearn.preprocessing.MaxAbsScaler)"
      ]
    },
    {
      "metadata": {
        "id": "EckMdIGeknVF",
        "colab_type": "code",
        "outputId": "6c857011-23d4-482a-cee7-29fb847fd633",
        "colab": {
          "base_uri": "https://localhost:8080/",
          "height": 72
        }
      },
      "cell_type": "code",
      "source": [
        "from sklearn import preprocessing \n",
        "min_max_scaler = preprocessing.MinMaxScaler()\n",
        "datanorm = min_max_scaler.fit_transform(df)\n"
      ],
      "execution_count": 0,
      "outputs": [
        {
          "output_type": "stream",
          "text": [
            "/usr/local/lib/python3.6/dist-packages/sklearn/preprocessing/data.py:323: DataConversionWarning: Data with input dtype int64 were all converted to float64 by MinMaxScaler.\n",
            "  return self.partial_fit(X, y)\n"
          ],
          "name": "stderr"
        }
      ]
    },
    {
      "metadata": {
        "id": "wiREP_-RjP2Z",
        "colab_type": "text"
      },
      "cell_type": "markdown",
      "source": [
        "# Análisis de Componentes Principales\n",
        "\n",
        "El análisis de componentes principales (en español ACP, en inglés, PCA) es una técnica utilizada para reducir la dimensionalidad de un conjunto de datos. Intuitivamente la técnica sirve para hallar las causas de la variabilidad de un conjunto de datos y ordenarlas por importancia. Técnicamente, PCA busca la proyección según la cual los datos queden mejor representados en términos de mínimos cuadrados. PCA se emplea sobre todo en análisis exploratorio de datos y para construir modelos predictivos. "
      ]
    },
    {
      "metadata": {
        "id": "TtuF5Qsau0-H",
        "colab_type": "text"
      },
      "cell_type": "markdown",
      "source": [
        "PCA comporta el cálculo de la descomposición en autovalores de la matriz de covarianza, normalmente tras centrar los datos en la media de cada atributo.\n",
        "Para ello utilizaremos el procedimiento [StandardScaler](http://scikit-learn.org/stable/modules/generated/sklearn.preprocessing.StandardScaler.html#sklearn.preprocessing.StandardScaler) de scikitlearn"
      ]
    },
    {
      "metadata": {
        "id": "O7L2bLfjuz-k",
        "colab_type": "code",
        "outputId": "540c1dfd-a1ad-4142-9b1e-1e3537e45ae2",
        "colab": {
          "base_uri": "https://localhost:8080/",
          "height": 107
        }
      },
      "cell_type": "code",
      "source": [
        "from sklearn import preprocessing \n",
        "scaler = preprocessing.StandardScaler()\n",
        "states = scaler.fit_transform(df)"
      ],
      "execution_count": 0,
      "outputs": [
        {
          "output_type": "stream",
          "text": [
            "/usr/local/lib/python3.6/dist-packages/sklearn/preprocessing/data.py:625: DataConversionWarning: Data with input dtype int64 were all converted to float64 by StandardScaler.\n",
            "  return self.partial_fit(X, y)\n",
            "/usr/local/lib/python3.6/dist-packages/sklearn/base.py:462: DataConversionWarning: Data with input dtype int64 were all converted to float64 by StandardScaler.\n",
            "  return self.fit(X, **fit_params).transform(X)\n"
          ],
          "name": "stderr"
        }
      ]
    },
    {
      "metadata": {
        "id": "b2H8F9WCu_8J",
        "colab_type": "text"
      },
      "cell_type": "markdown",
      "source": [
        "Una de las ventajas del PCA para reducir la dimensionalidad de un grupo de datos, es que retiene aquellas características del conjunto de datos que contribuyen más a su varianza, manteniendo un orden de bajo nivel de los componentes principales e ignorando los de alto nivel. \n",
        "\n",
        "El objetivo es que esos componentes de bajo orden a veces contienen el aspecto “más importante” de esa información \n",
        "\n",
        "En este caso y como nuestro propósito principal es la visualización utilizaremos únicamente **dos componentes principales**"
      ]
    },
    {
      "metadata": {
        "id": "0-1RBk2evCk1",
        "colab_type": "code",
        "colab": {}
      },
      "cell_type": "code",
      "source": [
        "#2. PCA Estimation\n",
        "from sklearn.decomposition import PCA\n",
        "estimator = PCA (n_components = 2)\n",
        "X_pca = estimator.fit_transform(states)\n",
        "#X_pca\n"
      ],
      "execution_count": 0,
      "outputs": []
    },
    {
      "metadata": {
        "id": "wvTWij-qvJMY",
        "colab_type": "text"
      },
      "cell_type": "markdown",
      "source": [
        "A continuación, se muestra el porcentaje de varianza explicado por cada uno de los componentes seleccionados.\n",
        "\n",
        "En PCA cada componente principal tiene una cierta desviación, que en conjunto suman hasta el 100% de la desviación total.\n",
        "\n",
        "Para cada componente principal, un cociente de su varianza con respecto a la varianza total se denomina \"proporción de varianza explicada\"."
      ]
    },
    {
      "metadata": {
        "id": "1r4h8xT4vIkn",
        "colab_type": "code",
        "outputId": "d9b31e93-b9e4-46bd-eaa6-d1b56cd0da10",
        "colab": {
          "base_uri": "https://localhost:8080/",
          "height": 35
        }
      },
      "cell_type": "code",
      "source": [
        "print(estimator.explained_variance_ratio_) "
      ],
      "execution_count": 0,
      "outputs": [
        {
          "output_type": "stream",
          "text": [
            "[0.83500216 0.06087741]\n"
          ],
          "name": "stdout"
        }
      ]
    },
    {
      "metadata": {
        "id": "gjWHcHZtzAoq",
        "colab_type": "code",
        "outputId": "42c7cad4-81ab-4112-8a01-8ddeecdf0fba",
        "colab": {
          "base_uri": "https://localhost:8080/",
          "height": 570
        }
      },
      "cell_type": "code",
      "source": [
        "pd.DataFrame(numpy.matrix.transpose(estimator.components_), columns=['PC-1', 'PC-2'], index=df.columns)"
      ],
      "execution_count": 0,
      "outputs": [
        {
          "output_type": "execute_result",
          "data": {
            "text/html": [
              "<div>\n",
              "<style scoped>\n",
              "    .dataframe tbody tr th:only-of-type {\n",
              "        vertical-align: middle;\n",
              "    }\n",
              "\n",
              "    .dataframe tbody tr th {\n",
              "        vertical-align: top;\n",
              "    }\n",
              "\n",
              "    .dataframe thead th {\n",
              "        text-align: right;\n",
              "    }\n",
              "</style>\n",
              "<table border=\"1\" class=\"dataframe\">\n",
              "  <thead>\n",
              "    <tr style=\"text-align: right;\">\n",
              "      <th></th>\n",
              "      <th>PC-1</th>\n",
              "      <th>PC-2</th>\n",
              "    </tr>\n",
              "  </thead>\n",
              "  <tbody>\n",
              "    <tr>\n",
              "      <th>Agriculture</th>\n",
              "      <td>0.203229</td>\n",
              "      <td>-0.175995</td>\n",
              "    </tr>\n",
              "    <tr>\n",
              "      <th>Mining</th>\n",
              "      <td>0.121566</td>\n",
              "      <td>0.856899</td>\n",
              "    </tr>\n",
              "    <tr>\n",
              "      <th>Utilities</th>\n",
              "      <td>0.258800</td>\n",
              "      <td>0.104143</td>\n",
              "    </tr>\n",
              "    <tr>\n",
              "      <th>Construction</th>\n",
              "      <td>0.259520</td>\n",
              "      <td>0.164628</td>\n",
              "    </tr>\n",
              "    <tr>\n",
              "      <th>Manufacturing</th>\n",
              "      <td>0.245529</td>\n",
              "      <td>0.081815</td>\n",
              "    </tr>\n",
              "    <tr>\n",
              "      <th>Wholesale trade</th>\n",
              "      <td>0.260563</td>\n",
              "      <td>0.075003</td>\n",
              "    </tr>\n",
              "    <tr>\n",
              "      <th>Retail</th>\n",
              "      <td>0.263346</td>\n",
              "      <td>-0.003603</td>\n",
              "    </tr>\n",
              "    <tr>\n",
              "      <th>Transportation</th>\n",
              "      <td>0.254280</td>\n",
              "      <td>0.180300</td>\n",
              "    </tr>\n",
              "    <tr>\n",
              "      <th>Information</th>\n",
              "      <td>0.244355</td>\n",
              "      <td>-0.247128</td>\n",
              "    </tr>\n",
              "    <tr>\n",
              "      <th>Finance</th>\n",
              "      <td>0.252880</td>\n",
              "      <td>-0.213199</td>\n",
              "    </tr>\n",
              "    <tr>\n",
              "      <th>Buss. Services</th>\n",
              "      <td>0.260961</td>\n",
              "      <td>-0.105176</td>\n",
              "    </tr>\n",
              "    <tr>\n",
              "      <th>Education</th>\n",
              "      <td>0.255058</td>\n",
              "      <td>-0.119432</td>\n",
              "    </tr>\n",
              "    <tr>\n",
              "      <th>Arts</th>\n",
              "      <td>0.256503</td>\n",
              "      <td>-0.085223</td>\n",
              "    </tr>\n",
              "    <tr>\n",
              "      <th>Oth Serv.</th>\n",
              "      <td>0.263867</td>\n",
              "      <td>-0.029990</td>\n",
              "    </tr>\n",
              "    <tr>\n",
              "      <th>Fed. civ</th>\n",
              "      <td>0.196665</td>\n",
              "      <td>-0.034063</td>\n",
              "    </tr>\n",
              "    <tr>\n",
              "      <th>Fed. military</th>\n",
              "      <td>0.218444</td>\n",
              "      <td>0.047271</td>\n",
              "    </tr>\n",
              "    <tr>\n",
              "      <th>State.1</th>\n",
              "      <td>0.262254</td>\n",
              "      <td>-0.092475</td>\n",
              "    </tr>\n",
              "  </tbody>\n",
              "</table>\n",
              "</div>"
            ],
            "text/plain": [
              "                     PC-1      PC-2\n",
              "Agriculture      0.203229 -0.175995\n",
              "Mining           0.121566  0.856899\n",
              "Utilities        0.258800  0.104143\n",
              "Construction     0.259520  0.164628\n",
              "Manufacturing    0.245529  0.081815\n",
              "Wholesale trade  0.260563  0.075003\n",
              "Retail           0.263346 -0.003603\n",
              "Transportation   0.254280  0.180300\n",
              "Information      0.244355 -0.247128\n",
              "Finance          0.252880 -0.213199\n",
              "Buss. Services   0.260961 -0.105176\n",
              "Education        0.255058 -0.119432\n",
              "Arts             0.256503 -0.085223\n",
              "Oth Serv.        0.263867 -0.029990\n",
              "Fed. civ         0.196665 -0.034063\n",
              "Fed. military    0.218444  0.047271\n",
              "State.1          0.262254 -0.092475"
            ]
          },
          "metadata": {
            "tags": []
          },
          "execution_count": 9
        }
      ]
    },
    {
      "metadata": {
        "id": "dE4uYvpPvPtA",
        "colab_type": "text"
      },
      "cell_type": "markdown",
      "source": [
        "Finalmente, PCA encuentra un nuevo sistema de coordenadas en el que cada punto tiene un nuevo valor (x,y). Los ejes no significan realmente nada físico; se eligen para dar a uno de ellos la mejor de las variaciones."
      ]
    },
    {
      "metadata": {
        "id": "kKzf00B1PHUZ",
        "colab_type": "code",
        "outputId": "0e038bf8-26d8-4826-dec1-e050422f39ec",
        "colab": {
          "base_uri": "https://localhost:8080/",
          "height": 347
        }
      },
      "cell_type": "code",
      "source": [
        "fig, ax = plt.subplots()\n",
        "ax.scatter(X_pca[:,0], X_pca[:,1] ,s=50)\n",
        "\n",
        "# anotación \n",
        "#numbers = numpy.arange(len(X_pca)) # etiquetas numéricas\n",
        "for i in range(0,len(X_pca)):\n",
        "    ax.annotate(df.iloc[i,:].name, (X_pca[i,0], X_pca[i,1]))"
      ],
      "execution_count": 0,
      "outputs": [
        {
          "output_type": "display_data",
          "data": {
            "image/png": "[encoded data removed]",
            "text/plain": [
              "<Figure size 576x396 with 1 Axes>"
            ]
          },
          "metadata": {
            "tags": []
          }
        }
      ]
    },
    {
      "metadata": {
        "id": "BxXseeWEjZ0w",
        "colab_type": "text"
      },
      "cell_type": "markdown",
      "source": [
        "# Clustering Jerárquico\n",
        "\n",
        "\n",
        "Los algoritmos de clustering jerárquico se distinguen por generar como resultado una estructura de\n",
        "grupos organizada en forma de árbol jerárquico. Este árbol, denominado dendrograma es un fiel reflejo de como los clusters se relacionan unos con otros. Dentro de la estructura, el nodo superior o “raíz” del árbol engloba la totalidad de los elementos de la colección, mientras que\n",
        "los nodos “hoja” representan a los grupos de elementos con similitud máxima. Cada nivel intermedio\n",
        "puede ser visto como la combinación de dos agrupaciones del nivel más bajo, o bien, como una parte\n",
        "de la división de la agrupación de nivel más alto.\n",
        "\n"
      ]
    },
    {
      "metadata": {
        "id": "Dhz61-y7k6Aw",
        "colab_type": "text"
      },
      "cell_type": "markdown",
      "source": [
        "A continuación, ejecutemos un algoritmo de clustering jerárquico con el fin de observar como se pueden están organizados los elementos que están bajo estudio, en este caso los estados de Estados Unidos. \n",
        "\n",
        "En primer lugar vamos a calcular la matriz de similitud entre los diferentes elementos utilizando para ello la [distancia euclídea](https://scikit-learn.org/stable/modules/generated/sklearn.neighbors.DistanceMetric.html) y la visualizamos utilizando la librería seaborn y el [gráfico de calor](https://seaborn.pydata.org/generated/seaborn.heatmap.html)\n",
        "\n"
      ]
    },
    {
      "metadata": {
        "id": "rV5zM54FlHo8",
        "colab_type": "code",
        "outputId": "35631d9d-240e-474a-ccc0-3de6091ca040",
        "colab": {
          "base_uri": "https://localhost:8080/",
          "height": 353
        }
      },
      "cell_type": "code",
      "source": [
        "#3. Hierarchical Clustering\n",
        "# 3.1. Compute the similarity matrix\n",
        "import sklearn.neighbors\n",
        "dist = sklearn.neighbors.DistanceMetric.get_metric('euclidean')\n",
        "matsim = dist.pairwise(datanorm)\n",
        "\n",
        "# 3.1.1 Visualization\n",
        "import seaborn as sns; sns.set()\n",
        "ax = sns.heatmap(matsim,vmin=0, vmax=1)\n",
        "\n"
      ],
      "execution_count": 0,
      "outputs": [
        {
          "output_type": "display_data",
          "data": {
            "image/png": "[encoded data removed]",
            "text/plain": [
              "<Figure size 576x396 with 2 Axes>"
            ]
          },
          "metadata": {
            "tags": []
          }
        }
      ]
    },
    {
      "metadata": {
        "id": "LnknIOcZlYNx",
        "colab_type": "text"
      },
      "cell_type": "markdown",
      "source": [
        "Una vez calculada la matriz de similitud pasamos a construir el dendrograma. Para ello hay que decidir que tipo de [distancia intercluster](https://docs.scipy.org/doc/scipy/reference/generated/scipy.cluster.hierarchy.linkage.html) utilizamos, lo cual dependerá del problema que tengamos que afrontar. En un extremo estará el enlace simple que permitirá manejar fácilmente elementos especiales (*outliers*) y clusters de muy diversa forma, pero que nos ofrecerá grupos poco balanceados. En el otro extremo el enlace completo nos ofrecerá agrupaciones más equlibradas pero que supondrán la división de grupos mayoritarios. De forma intermedia tendremos otros índices como Ward o Average. \n",
        "paa ver cómo se distribuyen los datos.\n"
      ]
    },
    {
      "metadata": {
        "id": "5TEcUnawlKMW",
        "colab_type": "code",
        "outputId": "1f95ac4a-25e3-4531-89c2-4ff0272476ae",
        "colab": {
          "base_uri": "https://localhost:8080/",
          "height": 445
        }
      },
      "cell_type": "code",
      "source": [
        "# 3.2. Building the Dendrogram\t\n",
        "from scipy import cluster\n",
        "clusters = cluster.hierarchy.linkage(matsim, method = 'complete')\n",
        "# http://docs.scipy.org/doc/scipy-0.14.0/reference/generated/scipy.cluster.hierarchy.dendrogram.html\n",
        "cluster.hierarchy.dendrogram(clusters, color_threshold=5, labels = df.index)\n",
        "\n",
        "# 3.2.1 Visualization\n",
        "plt.show()"
      ],
      "execution_count": 0,
      "outputs": [
        {
          "output_type": "stream",
          "text": [
            "/usr/local/lib/python3.6/dist-packages/ipykernel_launcher.py:2: ClusterWarning: scipy.cluster: The symmetric non-negative hollow observation matrix looks suspiciously like an uncondensed distance matrix\n",
            "  \n"
          ],
          "name": "stderr"
        },
        {
          "output_type": "display_data",
          "data": {
            "image/png": "[encoded data removed]",
            "text/plain": [
              "<Figure size 576x396 with 1 Axes>"
            ]
          },
          "metadata": {
            "tags": []
          }
        }
      ]
    },
    {
      "metadata": {
        "id": "vmx8QVuZpPiK",
        "colab_type": "text"
      },
      "cell_type": "markdown",
      "source": [
        "Aunque aquí el corte más que lineal tendría que hacerse ad-hoc, es decir, a partir de un corte con más granularidad (más grupos) deberíamos entonces reagrupar clusters que sean muy similares entre sí.\n",
        "\n",
        "De todos modos vamos a cortar a un nivel lógico a pesar de darnos algunos valores atípicos (grupos de un solo elemento)\n",
        "\n",
        "Por ejemplo, un corte a nivel 5 con un enlace completo da lugar a 5 grupos, alguno de ellos con muy pocos elementos \n",
        "\n"
      ]
    },
    {
      "metadata": {
        "id": "5E236j7Qpgpp",
        "colab_type": "code",
        "outputId": "1a657abd-2f78-4e4f-827d-cfb17e8a7948",
        "colab": {
          "base_uri": "https://localhost:8080/",
          "height": 72
        }
      },
      "cell_type": "code",
      "source": [
        "cut = 5 # !!!! ad-hoc\n",
        "labels = cluster.hierarchy.fcluster(clusters, cut , criterion = 'distance')\n",
        "\n",
        "labels"
      ],
      "execution_count": 0,
      "outputs": [
        {
          "output_type": "execute_result",
          "data": {
            "text/plain": [
              "array([2, 2, 2, 2, 5, 2, 2, 2, 3, 1, 3, 2, 2, 1, 2, 2, 2, 2, 2, 2, 3, 3,\n",
              "       3, 2, 2, 2, 2, 2, 2, 2, 3, 2, 4, 3, 2, 3, 2, 2, 1, 2, 2, 2, 2, 4,\n",
              "       2, 2, 3, 3, 2, 2, 2], dtype=int32)"
            ]
          },
          "metadata": {
            "tags": []
          },
          "execution_count": 31
        }
      ]
    },
    {
      "metadata": {
        "id": "ciVlTsBQpqui",
        "colab_type": "text"
      },
      "cell_type": "markdown",
      "source": [
        "Una vez terminado el clustering podemos aplicar ciertas métricas de calidad del mismo como el [coeficiente Silohuette] (https://scikit-learn.org/stable/modules/generated/sklearn.metrics.silhouette_score.html)\n",
        "\n"
      ]
    },
    {
      "metadata": {
        "id": "yJ8d5ngtpwwc",
        "colab_type": "code",
        "outputId": "b9007559-769d-4ee8-aaa4-eab5d5415481",
        "colab": {
          "base_uri": "https://localhost:8080/",
          "height": 54
        }
      },
      "cell_type": "code",
      "source": [
        "# tratamos el cluster -1 como cluster de outliers\n",
        "from sklearn import metrics\n",
        "n_clusters_ = len(set(labels)) - (1 if -1 in labels else 0)\n",
        "print('Estimated number of clusters: %d' % n_clusters_)\n",
        "print(\"Silhouette Coefficient: %0.3f\"\n",
        "      % metrics.silhouette_score(datanorm, labels))"
      ],
      "execution_count": 0,
      "outputs": [
        {
          "output_type": "stream",
          "text": [
            "Estimated number of clusters: 5\n",
            "Silhouette Coefficient: 0.447\n"
          ],
          "name": "stdout"
        }
      ]
    },
    {
      "metadata": {
        "id": "qmfwH9AIqANm",
        "colab_type": "text"
      },
      "cell_type": "markdown",
      "source": [
        "Y podríamos comenzar con la caracterízación de los grupos, en primer lugar visualizandolos utilizando la proyección PCA"
      ]
    },
    {
      "metadata": {
        "id": "XNELd36JjsgQ",
        "colab_type": "code",
        "outputId": "1dff9dac-583e-4536-9f70-f3a85c532cd7",
        "colab": {
          "base_uri": "https://localhost:8080/",
          "height": 347
        }
      },
      "cell_type": "code",
      "source": [
        "#plotting orginal points with color related to label\n",
        "plt.scatter(X_pca[:,0], X_pca[:,1], c=labels,s=50)\n",
        "plt.grid()\n",
        "plt.show()"
      ],
      "execution_count": 0,
      "outputs": [
        {
          "output_type": "display_data",
          "data": {
            "image/png": "[encoded data removed]",
            "text/plain": [
              "<Figure size 576x396 with 1 Axes>"
            ]
          },
          "metadata": {
            "tags": []
          }
        }
      ]
    },
    {
      "metadata": {
        "id": "DrnHb_9_j5q0",
        "colab_type": "text"
      },
      "cell_type": "markdown",
      "source": [
        "Y luego obteniendo estadísticos básicos que nos permitan interpretar que significa cada grupo"
      ]
    },
    {
      "metadata": {
        "id": "vipV_MzOqFKA",
        "colab_type": "code",
        "outputId": "0bbb4481-2655-4fd4-ef2e-78f558252ba8",
        "colab": {
          "base_uri": "https://localhost:8080/",
          "height": 375
        }
      },
      "cell_type": "code",
      "source": [
        "df['group'] = labels\n",
        "\n",
        "\n",
        "res = df[['Finance', 'Mining', 'Manufacturing', 'group']].groupby(('group')).mean()\n",
        "res.plot(kind='bar', legend=True)\n",
        "\n",
        "\n"
      ],
      "execution_count": 0,
      "outputs": [
        {
          "output_type": "execute_result",
          "data": {
            "text/plain": [
              "<matplotlib.axes._subplots.AxesSubplot at 0x7f0760be3b00>"
            ]
          },
          "metadata": {
            "tags": []
          },
          "execution_count": 34
        },
        {
          "output_type": "display_data",
          "data": {
            "image/png": "[encoded data removed]",
            "text/plain": [
              "<Figure size 576x396 with 1 Axes>"
            ]
          },
          "metadata": {
            "tags": []
          }
        }
      ]
    },
    {
      "metadata": {
        "id": "1_f6T-vDjeUT",
        "colab_type": "text"
      },
      "cell_type": "markdown",
      "source": [
        "Y podemos utilizar filtros para saber que estados pertenecen a cada grupo"
      ]
    },
    {
      "metadata": {
        "id": "4VmTL2dTjATY",
        "colab_type": "code",
        "outputId": "17fc7d69-a831-4cd6-88eb-26ba293e9e15",
        "colab": {
          "base_uri": "https://localhost:8080/",
          "height": 433
        }
      },
      "cell_type": "code",
      "source": [
        "df[df['group'] == 3]"
      ],
      "execution_count": 0,
      "outputs": [
        {
          "output_type": "execute_result",
          "data": {
            "text/html": [
              "<div>\n",
              "<style scoped>\n",
              "    .dataframe tbody tr th:only-of-type {\n",
              "        vertical-align: middle;\n",
              "    }\n",
              "\n",
              "    .dataframe tbody tr th {\n",
              "        vertical-align: top;\n",
              "    }\n",
              "\n",
              "    .dataframe thead th {\n",
              "        text-align: right;\n",
              "    }\n",
              "</style>\n",
              "<table border=\"1\" class=\"dataframe\">\n",
              "  <thead>\n",
              "    <tr style=\"text-align: right;\">\n",
              "      <th></th>\n",
              "      <th>Agriculture</th>\n",
              "      <th>Mining</th>\n",
              "      <th>Utilities</th>\n",
              "      <th>Construction</th>\n",
              "      <th>Manufacturing</th>\n",
              "      <th>Wholesale trade</th>\n",
              "      <th>Retail</th>\n",
              "      <th>Transportation</th>\n",
              "      <th>Information</th>\n",
              "      <th>Finance</th>\n",
              "      <th>Buss. Services</th>\n",
              "      <th>Education</th>\n",
              "      <th>Arts</th>\n",
              "      <th>Oth Serv.</th>\n",
              "      <th>Fed. civ</th>\n",
              "      <th>Fed. military</th>\n",
              "      <th>State.1</th>\n",
              "      <th>group</th>\n",
              "    </tr>\n",
              "    <tr>\n",
              "      <th>State</th>\n",
              "      <th></th>\n",
              "      <th></th>\n",
              "      <th></th>\n",
              "      <th></th>\n",
              "      <th></th>\n",
              "      <th></th>\n",
              "      <th></th>\n",
              "      <th></th>\n",
              "      <th></th>\n",
              "      <th></th>\n",
              "      <th></th>\n",
              "      <th></th>\n",
              "      <th></th>\n",
              "      <th></th>\n",
              "      <th></th>\n",
              "      <th></th>\n",
              "      <th></th>\n",
              "      <th></th>\n",
              "    </tr>\n",
              "  </thead>\n",
              "  <tbody>\n",
              "    <tr>\n",
              "      <th>District of Columbia</th>\n",
              "      <td>2</td>\n",
              "      <td>0</td>\n",
              "      <td>1372</td>\n",
              "      <td>1011</td>\n",
              "      <td>238</td>\n",
              "      <td>828</td>\n",
              "      <td>1078</td>\n",
              "      <td>325</td>\n",
              "      <td>8073</td>\n",
              "      <td>11226</td>\n",
              "      <td>24224</td>\n",
              "      <td>7659</td>\n",
              "      <td>3687</td>\n",
              "      <td>6748</td>\n",
              "      <td>28892</td>\n",
              "      <td>3958</td>\n",
              "      <td>2604</td>\n",
              "      <td>3</td>\n",
              "    </tr>\n",
              "    <tr>\n",
              "      <th>Georgia</th>\n",
              "      <td>3456</td>\n",
              "      <td>1285</td>\n",
              "      <td>8343</td>\n",
              "      <td>16154</td>\n",
              "      <td>45153</td>\n",
              "      <td>30967</td>\n",
              "      <td>24316</td>\n",
              "      <td>15093</td>\n",
              "      <td>23432</td>\n",
              "      <td>79201</td>\n",
              "      <td>47024</td>\n",
              "      <td>30154</td>\n",
              "      <td>13647</td>\n",
              "      <td>8703</td>\n",
              "      <td>11519</td>\n",
              "      <td>8751</td>\n",
              "      <td>36847</td>\n",
              "      <td>3</td>\n",
              "    </tr>\n",
              "    <tr>\n",
              "      <th>Maryland</th>\n",
              "      <td>814</td>\n",
              "      <td>190</td>\n",
              "      <td>5828</td>\n",
              "      <td>14168</td>\n",
              "      <td>18895</td>\n",
              "      <td>13327</td>\n",
              "      <td>15578</td>\n",
              "      <td>5763</td>\n",
              "      <td>16862</td>\n",
              "      <td>63883</td>\n",
              "      <td>41803</td>\n",
              "      <td>26648</td>\n",
              "      <td>9466</td>\n",
              "      <td>7377</td>\n",
              "      <td>29024</td>\n",
              "      <td>8064</td>\n",
              "      <td>26724</td>\n",
              "      <td>3</td>\n",
              "    </tr>\n",
              "    <tr>\n",
              "      <th>Massachusetts</th>\n",
              "      <td>733</td>\n",
              "      <td>165</td>\n",
              "      <td>4914</td>\n",
              "      <td>12571</td>\n",
              "      <td>40306</td>\n",
              "      <td>20169</td>\n",
              "      <td>16771</td>\n",
              "      <td>6011</td>\n",
              "      <td>18719</td>\n",
              "      <td>89756</td>\n",
              "      <td>59824</td>\n",
              "      <td>46553</td>\n",
              "      <td>13059</td>\n",
              "      <td>7633</td>\n",
              "      <td>7869</td>\n",
              "      <td>7857</td>\n",
              "      <td>30242</td>\n",
              "      <td>3</td>\n",
              "    </tr>\n",
              "    <tr>\n",
              "      <th>Michigan</th>\n",
              "      <td>2850</td>\n",
              "      <td>1073</td>\n",
              "      <td>7951</td>\n",
              "      <td>11665</td>\n",
              "      <td>53524</td>\n",
              "      <td>22991</td>\n",
              "      <td>26008</td>\n",
              "      <td>8747</td>\n",
              "      <td>10323</td>\n",
              "      <td>66773</td>\n",
              "      <td>45797</td>\n",
              "      <td>37502</td>\n",
              "      <td>12792</td>\n",
              "      <td>9225</td>\n",
              "      <td>6258</td>\n",
              "      <td>1725</td>\n",
              "      <td>41097</td>\n",
              "      <td>3</td>\n",
              "    </tr>\n",
              "    <tr>\n",
              "      <th>New Jersey</th>\n",
              "      <td>947</td>\n",
              "      <td>308</td>\n",
              "      <td>8102</td>\n",
              "      <td>16758</td>\n",
              "      <td>46021</td>\n",
              "      <td>37202</td>\n",
              "      <td>28073</td>\n",
              "      <td>14878</td>\n",
              "      <td>28827</td>\n",
              "      <td>113460</td>\n",
              "      <td>69632</td>\n",
              "      <td>41650</td>\n",
              "      <td>14713</td>\n",
              "      <td>10026</td>\n",
              "      <td>7012</td>\n",
              "      <td>2642</td>\n",
              "      <td>48736</td>\n",
              "      <td>3</td>\n",
              "    </tr>\n",
              "    <tr>\n",
              "      <th>North Carolina</th>\n",
              "      <td>4176</td>\n",
              "      <td>1196</td>\n",
              "      <td>6059</td>\n",
              "      <td>16195</td>\n",
              "      <td>87733</td>\n",
              "      <td>21270</td>\n",
              "      <td>21668</td>\n",
              "      <td>8645</td>\n",
              "      <td>11705</td>\n",
              "      <td>75251</td>\n",
              "      <td>39980</td>\n",
              "      <td>32216</td>\n",
              "      <td>12779</td>\n",
              "      <td>8282</td>\n",
              "      <td>7706</td>\n",
              "      <td>12140</td>\n",
              "      <td>42453</td>\n",
              "      <td>3</td>\n",
              "    </tr>\n",
              "    <tr>\n",
              "      <th>Ohio</th>\n",
              "      <td>3526</td>\n",
              "      <td>3104</td>\n",
              "      <td>9497</td>\n",
              "      <td>15774</td>\n",
              "      <td>75757</td>\n",
              "      <td>29488</td>\n",
              "      <td>30330</td>\n",
              "      <td>14324</td>\n",
              "      <td>13143</td>\n",
              "      <td>92939</td>\n",
              "      <td>54264</td>\n",
              "      <td>47646</td>\n",
              "      <td>14845</td>\n",
              "      <td>10517</td>\n",
              "      <td>9273</td>\n",
              "      <td>4237</td>\n",
              "      <td>47504</td>\n",
              "      <td>3</td>\n",
              "    </tr>\n",
              "    <tr>\n",
              "      <th>Virginia</th>\n",
              "      <td>1476</td>\n",
              "      <td>2463</td>\n",
              "      <td>6316</td>\n",
              "      <td>15999</td>\n",
              "      <td>36951</td>\n",
              "      <td>16413</td>\n",
              "      <td>21234</td>\n",
              "      <td>9661</td>\n",
              "      <td>16299</td>\n",
              "      <td>75490</td>\n",
              "      <td>74156</td>\n",
              "      <td>28107</td>\n",
              "      <td>11817</td>\n",
              "      <td>10679</td>\n",
              "      <td>23877</td>\n",
              "      <td>19954</td>\n",
              "      <td>35173</td>\n",
              "      <td>3</td>\n",
              "    </tr>\n",
              "    <tr>\n",
              "      <th>Washington</th>\n",
              "      <td>5559</td>\n",
              "      <td>687</td>\n",
              "      <td>3575</td>\n",
              "      <td>15077</td>\n",
              "      <td>47518</td>\n",
              "      <td>18767</td>\n",
              "      <td>22183</td>\n",
              "      <td>9294</td>\n",
              "      <td>32180</td>\n",
              "      <td>63201</td>\n",
              "      <td>35749</td>\n",
              "      <td>24163</td>\n",
              "      <td>11392</td>\n",
              "      <td>7229</td>\n",
              "      <td>8832</td>\n",
              "      <td>7902</td>\n",
              "      <td>36816</td>\n",
              "      <td>3</td>\n",
              "    </tr>\n",
              "  </tbody>\n",
              "</table>\n",
              "</div>"
            ],
            "text/plain": [
              "                      Agriculture  Mining  Utilities  Construction  \\\n",
              "State                                                                \n",
              "District of Columbia            2       0       1372          1011   \n",
              "Georgia                      3456    1285       8343         16154   \n",
              "Maryland                      814     190       5828         14168   \n",
              "Massachusetts                 733     165       4914         12571   \n",
              "Michigan                     2850    1073       7951         11665   \n",
              "New Jersey                    947     308       8102         16758   \n",
              "North Carolina               4176    1196       6059         16195   \n",
              "Ohio                         3526    3104       9497         15774   \n",
              "Virginia                     1476    2463       6316         15999   \n",
              "Washington                   5559     687       3575         15077   \n",
              "\n",
              "                      Manufacturing  Wholesale trade  Retail  Transportation  \\\n",
              "State                                                                          \n",
              "District of Columbia            238              828    1078             325   \n",
              "Georgia                       45153            30967   24316           15093   \n",
              "Maryland                      18895            13327   15578            5763   \n",
              "Massachusetts                 40306            20169   16771            6011   \n",
              "Michigan                      53524            22991   26008            8747   \n",
              "New Jersey                    46021            37202   28073           14878   \n",
              "North Carolina                87733            21270   21668            8645   \n",
              "Ohio                          75757            29488   30330           14324   \n",
              "Virginia                      36951            16413   21234            9661   \n",
              "Washington                    47518            18767   22183            9294   \n",
              "\n",
              "                      Information  Finance  Buss. Services  Education   Arts  \\\n",
              "State                                                                          \n",
              "District of Columbia         8073    11226           24224       7659   3687   \n",
              "Georgia                     23432    79201           47024      30154  13647   \n",
              "Maryland                    16862    63883           41803      26648   9466   \n",
              "Massachusetts               18719    89756           59824      46553  13059   \n",
              "Michigan                    10323    66773           45797      37502  12792   \n",
              "New Jersey                  28827   113460           69632      41650  14713   \n",
              "North Carolina              11705    75251           39980      32216  12779   \n",
              "Ohio                        13143    92939           54264      47646  14845   \n",
              "Virginia                    16299    75490           74156      28107  11817   \n",
              "Washington                  32180    63201           35749      24163  11392   \n",
              "\n",
              "                      Oth Serv.  Fed. civ  Fed. military  State.1  group  \n",
              "State                                                                     \n",
              "District of Columbia       6748     28892           3958     2604      3  \n",
              "Georgia                    8703     11519           8751    36847      3  \n",
              "Maryland                   7377     29024           8064    26724      3  \n",
              "Massachusetts              7633      7869           7857    30242      3  \n",
              "Michigan                   9225      6258           1725    41097      3  \n",
              "New Jersey                10026      7012           2642    48736      3  \n",
              "North Carolina             8282      7706          12140    42453      3  \n",
              "Ohio                      10517      9273           4237    47504      3  \n",
              "Virginia                  10679     23877          19954    35173      3  \n",
              "Washington                 7229      8832           7902    36816      3  "
            ]
          },
          "metadata": {
            "tags": []
          },
          "execution_count": 35
        }
      ]
    },
    {
      "metadata": {
        "id": "hlwAb7eakBZx",
        "colab_type": "text"
      },
      "cell_type": "markdown",
      "source": [
        "O sacar todos los estadísticos basicos para luego pasarlo a otra herramienta (Excel)"
      ]
    },
    {
      "metadata": {
        "id": "zouiCkiwkBFX",
        "colab_type": "code",
        "outputId": "57ef9a7c-6d6c-47c1-8683-7ffa4e9da4a8",
        "colab": {
          "base_uri": "https://localhost:8080/",
          "height": 307
        }
      },
      "cell_type": "code",
      "source": [
        "res = df.groupby('group').describe()\n",
        "res"
      ],
      "execution_count": 0,
      "outputs": [
        {
          "output_type": "execute_result",
          "data": {
            "text/html": [
              "<div>\n",
              "<style scoped>\n",
              "    .dataframe tbody tr th:only-of-type {\n",
              "        vertical-align: middle;\n",
              "    }\n",
              "\n",
              "    .dataframe tbody tr th {\n",
              "        vertical-align: top;\n",
              "    }\n",
              "\n",
              "    .dataframe thead tr th {\n",
              "        text-align: left;\n",
              "    }\n",
              "\n",
              "    .dataframe thead tr:last-of-type th {\n",
              "        text-align: right;\n",
              "    }\n",
              "</style>\n",
              "<table border=\"1\" class=\"dataframe\">\n",
              "  <thead>\n",
              "    <tr>\n",
              "      <th></th>\n",
              "      <th colspan=\"8\" halign=\"left\">Agriculture</th>\n",
              "      <th colspan=\"2\" halign=\"left\">Arts</th>\n",
              "      <th>...</th>\n",
              "      <th colspan=\"2\" halign=\"left\">Utilities</th>\n",
              "      <th colspan=\"8\" halign=\"left\">Wholesale trade</th>\n",
              "    </tr>\n",
              "    <tr>\n",
              "      <th></th>\n",
              "      <th>count</th>\n",
              "      <th>mean</th>\n",
              "      <th>std</th>\n",
              "      <th>min</th>\n",
              "      <th>25%</th>\n",
              "      <th>50%</th>\n",
              "      <th>75%</th>\n",
              "      <th>max</th>\n",
              "      <th>count</th>\n",
              "      <th>mean</th>\n",
              "      <th>...</th>\n",
              "      <th>75%</th>\n",
              "      <th>max</th>\n",
              "      <th>count</th>\n",
              "      <th>mean</th>\n",
              "      <th>std</th>\n",
              "      <th>min</th>\n",
              "      <th>25%</th>\n",
              "      <th>50%</th>\n",
              "      <th>75%</th>\n",
              "      <th>max</th>\n",
              "    </tr>\n",
              "    <tr>\n",
              "      <th>group</th>\n",
              "      <th></th>\n",
              "      <th></th>\n",
              "      <th></th>\n",
              "      <th></th>\n",
              "      <th></th>\n",
              "      <th></th>\n",
              "      <th></th>\n",
              "      <th></th>\n",
              "      <th></th>\n",
              "      <th></th>\n",
              "      <th></th>\n",
              "      <th></th>\n",
              "      <th></th>\n",
              "      <th></th>\n",
              "      <th></th>\n",
              "      <th></th>\n",
              "      <th></th>\n",
              "      <th></th>\n",
              "      <th></th>\n",
              "      <th></th>\n",
              "      <th></th>\n",
              "    </tr>\n",
              "  </thead>\n",
              "  <tbody>\n",
              "    <tr>\n",
              "      <th>1</th>\n",
              "      <td>3.0</td>\n",
              "      <td>4531.333333</td>\n",
              "      <td>1687.974625</td>\n",
              "      <td>2583.0</td>\n",
              "      <td>4020.50</td>\n",
              "      <td>5458.0</td>\n",
              "      <td>5505.5</td>\n",
              "      <td>5553.0</td>\n",
              "      <td>3.0</td>\n",
              "      <td>26784.666667</td>\n",
              "      <td>...</td>\n",
              "      <td>13677.00</td>\n",
              "      <td>16011.0</td>\n",
              "      <td>3.0</td>\n",
              "      <td>41570.000000</td>\n",
              "      <td>7586.598645</td>\n",
              "      <td>32917.0</td>\n",
              "      <td>38815.0</td>\n",
              "      <td>44713.0</td>\n",
              "      <td>45896.50</td>\n",
              "      <td>47080.0</td>\n",
              "    </tr>\n",
              "    <tr>\n",
              "      <th>2</th>\n",
              "      <td>35.0</td>\n",
              "      <td>1919.600000</td>\n",
              "      <td>1706.742877</td>\n",
              "      <td>75.0</td>\n",
              "      <td>379.00</td>\n",
              "      <td>1528.0</td>\n",
              "      <td>2973.5</td>\n",
              "      <td>7234.0</td>\n",
              "      <td>35.0</td>\n",
              "      <td>4940.257143</td>\n",
              "      <td>...</td>\n",
              "      <td>3579.50</td>\n",
              "      <td>5677.0</td>\n",
              "      <td>35.0</td>\n",
              "      <td>7150.171429</td>\n",
              "      <td>5123.259013</td>\n",
              "      <td>1026.0</td>\n",
              "      <td>2541.0</td>\n",
              "      <td>5711.0</td>\n",
              "      <td>10403.50</td>\n",
              "      <td>17805.0</td>\n",
              "    </tr>\n",
              "    <tr>\n",
              "      <th>3</th>\n",
              "      <td>10.0</td>\n",
              "      <td>2353.900000</td>\n",
              "      <td>1816.816229</td>\n",
              "      <td>2.0</td>\n",
              "      <td>847.25</td>\n",
              "      <td>2163.0</td>\n",
              "      <td>3508.5</td>\n",
              "      <td>5559.0</td>\n",
              "      <td>10.0</td>\n",
              "      <td>11819.700000</td>\n",
              "      <td>...</td>\n",
              "      <td>8064.25</td>\n",
              "      <td>9497.0</td>\n",
              "      <td>10.0</td>\n",
              "      <td>21142.200000</td>\n",
              "      <td>10166.550500</td>\n",
              "      <td>828.0</td>\n",
              "      <td>17001.5</td>\n",
              "      <td>20719.5</td>\n",
              "      <td>27863.75</td>\n",
              "      <td>37202.0</td>\n",
              "    </tr>\n",
              "    <tr>\n",
              "      <th>4</th>\n",
              "      <td>2.0</td>\n",
              "      <td>3980.000000</td>\n",
              "      <td>2805.799708</td>\n",
              "      <td>1996.0</td>\n",
              "      <td>2988.00</td>\n",
              "      <td>3980.0</td>\n",
              "      <td>4972.0</td>\n",
              "      <td>5964.0</td>\n",
              "      <td>2.0</td>\n",
              "      <td>39814.000000</td>\n",
              "      <td>...</td>\n",
              "      <td>22881.00</td>\n",
              "      <td>24497.0</td>\n",
              "      <td>2.0</td>\n",
              "      <td>68237.000000</td>\n",
              "      <td>17715.853296</td>\n",
              "      <td>55710.0</td>\n",
              "      <td>61973.5</td>\n",
              "      <td>68237.0</td>\n",
              "      <td>74500.50</td>\n",
              "      <td>80764.0</td>\n",
              "    </tr>\n",
              "    <tr>\n",
              "      <th>5</th>\n",
              "      <td>1.0</td>\n",
              "      <td>25439.000000</td>\n",
              "      <td>NaN</td>\n",
              "      <td>25439.0</td>\n",
              "      <td>25439.00</td>\n",
              "      <td>25439.0</td>\n",
              "      <td>25439.0</td>\n",
              "      <td>25439.0</td>\n",
              "      <td>1.0</td>\n",
              "      <td>71649.000000</td>\n",
              "      <td>...</td>\n",
              "      <td>27999.00</td>\n",
              "      <td>27999.0</td>\n",
              "      <td>1.0</td>\n",
              "      <td>100603.000000</td>\n",
              "      <td>NaN</td>\n",
              "      <td>100603.0</td>\n",
              "      <td>100603.0</td>\n",
              "      <td>100603.0</td>\n",
              "      <td>100603.00</td>\n",
              "      <td>100603.0</td>\n",
              "    </tr>\n",
              "  </tbody>\n",
              "</table>\n",
              "<p>5 rows × 136 columns</p>\n",
              "</div>"
            ],
            "text/plain": [
              "      Agriculture                                                         \\\n",
              "            count          mean          std      min       25%      50%   \n",
              "group                                                                      \n",
              "1             3.0   4531.333333  1687.974625   2583.0   4020.50   5458.0   \n",
              "2            35.0   1919.600000  1706.742877     75.0    379.00   1528.0   \n",
              "3            10.0   2353.900000  1816.816229      2.0    847.25   2163.0   \n",
              "4             2.0   3980.000000  2805.799708   1996.0   2988.00   3980.0   \n",
              "5             1.0  25439.000000          NaN  25439.0  25439.00  25439.0   \n",
              "\n",
              "                         Arts                  ...    Utilities           \\\n",
              "           75%      max count          mean    ...          75%      max   \n",
              "group                                          ...                         \n",
              "1       5505.5   5553.0   3.0  26784.666667    ...     13677.00  16011.0   \n",
              "2       2973.5   7234.0  35.0   4940.257143    ...      3579.50   5677.0   \n",
              "3       3508.5   5559.0  10.0  11819.700000    ...      8064.25   9497.0   \n",
              "4       4972.0   5964.0   2.0  39814.000000    ...     22881.00  24497.0   \n",
              "5      25439.0  25439.0   1.0  71649.000000    ...     27999.00  27999.0   \n",
              "\n",
              "      Wholesale trade                                                   \\\n",
              "                count           mean           std       min       25%   \n",
              "group                                                                    \n",
              "1                 3.0   41570.000000   7586.598645   32917.0   38815.0   \n",
              "2                35.0    7150.171429   5123.259013    1026.0    2541.0   \n",
              "3                10.0   21142.200000  10166.550500     828.0   17001.5   \n",
              "4                 2.0   68237.000000  17715.853296   55710.0   61973.5   \n",
              "5                 1.0  100603.000000           NaN  100603.0  100603.0   \n",
              "\n",
              "                                      \n",
              "            50%        75%       max  \n",
              "group                                 \n",
              "1       44713.0   45896.50   47080.0  \n",
              "2        5711.0   10403.50   17805.0  \n",
              "3       20719.5   27863.75   37202.0  \n",
              "4       68237.0   74500.50   80764.0  \n",
              "5      100603.0  100603.00  100603.0  \n",
              "\n",
              "[5 rows x 136 columns]"
            ]
          },
          "metadata": {
            "tags": []
          },
          "execution_count": 36
        }
      ]
    },
    {
      "metadata": {
        "id": "RLY7hJeZkdF4",
        "colab_type": "code",
        "colab": {}
      },
      "cell_type": "code",
      "source": [
        "res.to_csv('res.csv')\n",
        "files.download('res.csv')"
      ],
      "execution_count": 0,
      "outputs": []
    },
    {
      "metadata": {
        "id": "MqTC6eKOaCp5",
        "colab_type": "text"
      },
      "cell_type": "markdown",
      "source": [
        "Para finalizar buscamos una visualización un poco especial con [seaborn.clustermap](https://seaborn.pydata.org/generated/seaborn.clustermap.html)"
      ]
    },
    {
      "metadata": {
        "id": "NyG_IlhjWOq3",
        "colab_type": "code",
        "outputId": "f87e2ca4-20cf-4105-ea0f-0361a5e3b5f2",
        "colab": {
          "base_uri": "https://localhost:8080/",
          "height": 698
        }
      },
      "cell_type": "code",
      "source": [
        "sns.set(color_codes=True)\n",
        "sns.clustermap(df, standard_scale=1)"
      ],
      "execution_count": 0,
      "outputs": [
        {
          "output_type": "execute_result",
          "data": {
            "text/plain": [
              "<seaborn.matrix.ClusterGrid at 0x7f4b81df4198>"
            ]
          },
          "metadata": {
            "tags": []
          },
          "execution_count": 17
        },
        {
          "output_type": "display_data",
          "data": {
            "image/png": "[encoded data removed]",
            "text/plain": [
              "<Figure size 720x720 with 4 Axes>"
            ]
          },
          "metadata": {
            "tags": []
          }
        }
      ]
    },
    {
      "metadata": {
        "id": "pbkMWnOdqZvr",
        "colab_type": "text"
      },
      "cell_type": "markdown",
      "source": [
        "# K-means"
      ]
    },
    {
      "metadata": {
        "id": "sGM1r1bEGiDo",
        "colab_type": "text"
      },
      "cell_type": "markdown",
      "source": [
        " El algoritmo k-means se basa en la idea de que un punto central puede representar un\n",
        "clúster, este punto es lo que se denomina centroide. Normalmente este punto es la media o mediana\n",
        "de un grupo de puntos y por lo tanto puede no ser un elemento del conjunto a analizar. El algoritmo\n",
        "k-means establece una distancia entre los elementos mediante la selección de un número predefinido de centroides. \n",
        "\n",
        "\n",
        "K-means utiliza estos centroides preseleccionados como “semillas” en el proceso de construir los clústeres. Para ello, se asigna un clúster a cada centroide, en un proceso iterativo. El clúster asignado a cada centroide es el más “cercano” a éste, y la distancia se mide entre el elemento para ser\n",
        "incluido y el valor medio para todos los clústeres. Tal y como se ha mencionado anteriormente, el\n",
        "objetivo del proceso del algoritmo k- means es el de minimizar una función de error o distancia, por\n",
        "ejemplo, la suma de errores al cuadrado."
      ]
    },
    {
      "metadata": {
        "id": "n3_UzsDdqiAq",
        "colab_type": "text"
      },
      "cell_type": "markdown",
      "source": [
        "### Parametrización\n",
        "\n"
      ]
    },
    {
      "metadata": {
        "id": "p_QY-X_Bqeen",
        "colab_type": "text"
      },
      "cell_type": "markdown",
      "source": [
        "En primer lugar vamos a establecer los parámetros que vamos a considerar por defecto"
      ]
    },
    {
      "metadata": {
        "id": "FtPylr35qigK",
        "colab_type": "code",
        "colab": {}
      },
      "cell_type": "code",
      "source": [
        "# parameters\n",
        "init = 'random' # initialization method \n",
        "\n",
        "# to run 10 times with different random centroids \n",
        "# to choose the final model as the one with the lowest SSE\n",
        "iterations = 10\n",
        "\n",
        "# maximum number of iterations for each single run\n",
        "max_iter = 300 \n",
        "\n",
        "# controls the tolerance with regard to the changes in the \n",
        "# within-cluster sum-squared-error to declare convergence\n",
        "\n",
        "tol = 1e-04 \n",
        "\n",
        " # random seed\n",
        "random_state = 0"
      ],
      "execution_count": 0,
      "outputs": []
    },
    {
      "metadata": {
        "id": "bKnjJHPgqAGi",
        "colab_type": "text"
      },
      "cell_type": "markdown",
      "source": [
        "Vamos a elegir K dependiendo de los valores que tome el clustering en cuanto a Distorsión (SSE) y Silhouette desde k = 2 a k = 11\n",
        "\n",
        "*En este caso además vamos a optar por hacer el clustering sobre los datos proyectados mediante PCA*"
      ]
    },
    {
      "metadata": {
        "id": "RoGwcPI_qsrx",
        "colab_type": "code",
        "colab": {}
      },
      "cell_type": "code",
      "source": [
        "from sklearn.cluster import KMeans\n",
        "from sklearn import metrics\n",
        "\n",
        "distortions = []\n",
        "silhouettes = []\n",
        "\n",
        "for i in range(2, 11):\n",
        "    km = KMeans(i, init, n_init = iterations ,max_iter= max_iter, tol = tol,random_state = random_state)\n",
        "    labels = km.fit_predict(X_pca)\n",
        "    distortions.append(km.inertia_)\n",
        "    silhouettes.append(metrics.silhouette_score(datanorm, labels))"
      ],
      "execution_count": 0,
      "outputs": []
    },
    {
      "metadata": {
        "id": "QiCtr5y8q5EV",
        "colab_type": "code",
        "outputId": "d7db791e-dd3e-404f-d1e1-32d324ad7026",
        "colab": {
          "base_uri": "https://localhost:8080/",
          "height": 361
        }
      },
      "cell_type": "code",
      "source": [
        "plt.plot(range(2,11), distortions, marker='o')\n",
        "plt.xlabel('K')\n",
        "plt.ylabel('Distortion')\n",
        "plt.show()"
      ],
      "execution_count": 0,
      "outputs": [
        {
          "output_type": "display_data",
          "data": {
            "image/png": "[encoded data removed]",
            "text/plain": [
              "<Figure size 576x396 with 1 Axes>"
            ]
          },
          "metadata": {
            "tags": []
          }
        }
      ]
    },
    {
      "metadata": {
        "id": "xGSSAEN3q8Br",
        "colab_type": "code",
        "outputId": "ed3c6e27-f28e-4217-b38b-25673e059eae",
        "colab": {
          "base_uri": "https://localhost:8080/",
          "height": 361
        }
      },
      "cell_type": "code",
      "source": [
        "plt.plot(range(2,11), silhouettes , marker='o')\n",
        "plt.xlabel('K')\n",
        "plt.ylabel('Silohouette')\n",
        "plt.show()"
      ],
      "execution_count": 0,
      "outputs": [
        {
          "output_type": "display_data",
          "data": {
            "image/png": "[encoded data removed]",
            "text/plain": [
              "<Figure size 576x396 with 1 Axes>"
            ]
          },
          "metadata": {
            "tags": []
          }
        }
      ]
    },
    {
      "metadata": {
        "id": "M342xnPPGy-r",
        "colab_type": "text"
      },
      "cell_type": "markdown",
      "source": [
        "### Ejecución del Algoritmo"
      ]
    },
    {
      "metadata": {
        "id": "0IUA5Q1KdtYB",
        "colab_type": "text"
      },
      "cell_type": "markdown",
      "source": [
        "Vamos a seleccionar k = 4 con el fin de ejecutar el clustering"
      ]
    },
    {
      "metadata": {
        "id": "R7iXNUxfGp7L",
        "colab_type": "code",
        "colab": {}
      },
      "cell_type": "code",
      "source": [
        "k = 4\n",
        "\n",
        "km = KMeans(k, init, n_init = iterations ,\n",
        "            max_iter= max_iter, tol = tol, random_state = random_state)\n",
        "\n",
        "y_km = km.fit_predict(X_pca)"
      ],
      "execution_count": 0,
      "outputs": []
    },
    {
      "metadata": {
        "id": "G-PUrO7WHNK3",
        "colab_type": "text"
      },
      "cell_type": "markdown",
      "source": [
        "Vamos a calcular los valores finales de las métricas del algoritmo"
      ]
    },
    {
      "metadata": {
        "id": "wDJOeEnHHLwa",
        "colab_type": "code",
        "outputId": "38e2ad96-3f00-4ff1-bd23-0e3659be9131",
        "colab": {
          "base_uri": "https://localhost:8080/",
          "height": 54
        }
      },
      "cell_type": "code",
      "source": [
        "from sklearn import metrics\n",
        "print(\"Silhouette Coefficient: %0.3f\"\n",
        "      % metrics.silhouette_score(datanorm, y_km))\n",
        "      \n",
        "print('Distortion: %.2f' % km.inertia_)"
      ],
      "execution_count": 0,
      "outputs": [
        {
          "output_type": "stream",
          "text": [
            "Silhouette Coefficient: 0.405\n",
            "Distortion: 96.38\n"
          ],
          "name": "stdout"
        }
      ]
    },
    {
      "metadata": {
        "id": "4LNLu8ytGpc9",
        "colab_type": "text"
      },
      "cell_type": "markdown",
      "source": [
        "Y vamos a visualizar los resultados\n"
      ]
    },
    {
      "metadata": {
        "id": "HKzalpTaeZYA",
        "colab_type": "code",
        "outputId": "45df4239-ecae-49aa-c781-3392099a5fb6",
        "colab": {
          "base_uri": "https://localhost:8080/",
          "height": 72
        }
      },
      "cell_type": "code",
      "source": [
        "km.labels_"
      ],
      "execution_count": 0,
      "outputs": [
        {
          "output_type": "execute_result",
          "data": {
            "text/plain": [
              "array([3, 3, 1, 3, 0, 1, 3, 3, 3, 2, 1, 3, 3, 1, 1, 3, 3, 3, 3, 3, 1, 1,\n",
              "       1, 1, 3, 1, 3, 3, 3, 3, 1, 3, 2, 1, 3, 1, 3, 3, 1, 3, 3, 3, 1, 2,\n",
              "       3, 3, 1, 1, 3, 1, 3], dtype=int32)"
            ]
          },
          "metadata": {
            "tags": []
          },
          "execution_count": 54
        }
      ]
    },
    {
      "metadata": {
        "id": "w_QeA5_iOV5k",
        "colab_type": "code",
        "outputId": "41d52018-2ea9-42dd-a146-41b60e794653",
        "colab": {
          "base_uri": "https://localhost:8080/",
          "height": 347
        }
      },
      "cell_type": "code",
      "source": [
        "#plotting orginal points with color related to label\n",
        "plt.scatter(X_pca[:,0], X_pca[:,1], c=km.labels_,s=50)\n",
        "# plotting centroids\n",
        "plt.scatter(km.cluster_centers_[:,0], km.cluster_centers_[:,1], c='red',s=50)\n",
        "# \n",
        "plt.grid()\n",
        "plt.show()\n",
        "      "
      ],
      "execution_count": 0,
      "outputs": [
        {
          "output_type": "display_data",
          "data": {
            "image/png": "[encoded data removed]",
            "text/plain": [
              "<Figure size 576x396 with 1 Axes>"
            ]
          },
          "metadata": {
            "tags": []
          }
        }
      ]
    },
    {
      "metadata": {
        "id": "brr8SS6mqEWX",
        "colab_type": "text"
      },
      "cell_type": "markdown",
      "source": [
        "Y a proceder a su interpretación"
      ]
    },
    {
      "metadata": {
        "id": "TftxiFDgekuw",
        "colab_type": "code",
        "outputId": "1f7bf8bd-01be-4b02-8904-7cde4f55ff55",
        "colab": {
          "base_uri": "https://localhost:8080/",
          "height": 72
        }
      },
      "cell_type": "code",
      "source": [
        "labels"
      ],
      "execution_count": 0,
      "outputs": [
        {
          "output_type": "execute_result",
          "data": {
            "text/plain": [
              "array([5, 1, 5, 4, 3, 5, 5, 1, 4, 0, 2, 1, 1, 8, 5, 4, 4, 4, 6, 1, 7, 7,\n",
              "       7, 5, 4, 5, 1, 4, 4, 1, 2, 1, 0, 2, 1, 2, 6, 4, 8, 1, 4, 1, 5, 9,\n",
              "       4, 1, 2, 7, 1, 5, 1], dtype=int32)"
            ]
          },
          "metadata": {
            "tags": []
          },
          "execution_count": 58
        }
      ]
    },
    {
      "metadata": {
        "id": "dvz-yzttl7_Y",
        "colab_type": "code",
        "outputId": "392db491-6d26-4fcf-daed-8f51b1e070ae",
        "colab": {
          "base_uri": "https://localhost:8080/",
          "height": 375
        }
      },
      "cell_type": "code",
      "source": [
        "df['kmeans_group'] = km.labels_\n",
        "\n",
        "\n",
        "res = df[['Finance', 'Mining', 'Manufacturing', 'kmeans_group']].groupby(('kmeans_group')).mean()\n",
        "res.plot(kind='bar', legend=True)"
      ],
      "execution_count": 0,
      "outputs": [
        {
          "output_type": "execute_result",
          "data": {
            "text/plain": [
              "<matplotlib.axes._subplots.AxesSubplot at 0x7f075de63c88>"
            ]
          },
          "metadata": {
            "tags": []
          },
          "execution_count": 59
        },
        {
          "output_type": "display_data",
          "data": {
            "image/png": "[encoded data removed]",
            "text/plain": [
              "<Figure size 576x396 with 1 Axes>"
            ]
          },
          "metadata": {
            "tags": []
          }
        }
      ]
    },
    {
      "metadata": {
        "id": "4T7aBVB5JcXw",
        "colab_type": "text"
      },
      "cell_type": "markdown",
      "source": [
        "# DBSCAN\n",
        "\n"
      ]
    },
    {
      "metadata": {
        "id": "ZN6iN_6Yqbeq",
        "colab_type": "text"
      },
      "cell_type": "markdown",
      "source": [
        "La idea clave de los algoritmos de clustering basados en densidad es que asumen que los grupos\n",
        "están definidos en áreas de gran densidad de datos. Las zonas pocos densas separan los grupos.\n",
        "DBSCAN es el primer algoritmo que se definió basado en la densidad describiéndose los conceptos\n",
        "de punto central, borde y ruido. Los puntos centrales poseen un área de vecindad para\n",
        "un determinado radio que tiene por lo menos un número mínimo de puntos, o sea que su área de\n",
        "vecindad excede un determinado umbral"
      ]
    },
    {
      "metadata": {
        "id": "_hmMkF14qNBK",
        "colab_type": "text"
      },
      "cell_type": "markdown",
      "source": [
        "### Parametrización\n"
      ]
    },
    {
      "metadata": {
        "id": "krU2oRXhKE2s",
        "colab_type": "text"
      },
      "cell_type": "markdown",
      "source": [
        "Dibujamos en un gráfico la distancia mas corta al vecino para obtener el epsilon a utilizar en DBSCAN.\n",
        "Como MintPts ponemos un número bajo, considerando que tener 3 estados parecidos es ya sinónimo de un área densa. \n",
        "\n",
        "NOTA: Para realizar estos cálculos nos vamos a apoyar en la matriz de similitud calculada para la ejecución del Algoritmo Jerárquico\n"
      ]
    },
    {
      "metadata": {
        "id": "-I7kPBEWKNP-",
        "colab_type": "code",
        "outputId": "4f3fa12d-dbb7-4065-e045-f1fafd94ea62",
        "colab": {
          "base_uri": "https://localhost:8080/",
          "height": 347
        }
      },
      "cell_type": "code",
      "source": [
        "minPts=3\n",
        "from sklearn.neighbors import kneighbors_graph\n",
        "A = kneighbors_graph(datanorm, minPts, include_self=False)\n",
        "Ar = A.toarray()\n",
        "\n",
        "seq = []\n",
        "for i,s in enumerate(datanorm):\n",
        "    for j in range(len(datanorm)):\n",
        "        if Ar[i][j] != 0:\n",
        "            seq.append(matsim[i][j])\n",
        "            \n",
        "seq.sort()\n",
        "# establecer intervalo ejes\n",
        "fig = plt.figure()\n",
        "ax = fig.gca()\n",
        "ax.set_xticks(numpy.arange(0, 150, 20))\n",
        "ax.set_yticks(numpy.arange(0, 3, 0.1))\n",
        "\n",
        "plt.plot(seq)\n",
        "\n",
        "\n",
        "plt.show()"
      ],
      "execution_count": 0,
      "outputs": [
        {
          "output_type": "display_data",
          "data": {
            "image/png": "[encoded data removed]",
            "text/plain": [
              "<Figure size 576x396 with 1 Axes>"
            ]
          },
          "metadata": {
            "tags": []
          }
        }
      ]
    },
    {
      "metadata": {
        "id": "syyC0088K5iL",
        "colab_type": "text"
      },
      "cell_type": "markdown",
      "source": [
        "Aunque se podría probar con otras opciones vamos a optar por probar  a realizar diferntes clusters desde 0.2 a 0.7 con intervalos de 0.1. De todas formas la disposición de los datos hará que DBSCAN únicamente aisle una zona densa de aquellos elementos que considera *outliers*"
      ]
    },
    {
      "metadata": {
        "id": "CE2ZWAU9YaPt",
        "colab_type": "text"
      },
      "cell_type": "markdown",
      "source": [
        "## Ejecución"
      ]
    },
    {
      "metadata": {
        "id": "OqGMe4lDK3g7",
        "colab_type": "code",
        "outputId": "e0319d9b-a747-4aa0-fe7e-90798c6d0ee2",
        "colab": {
          "base_uri": "https://localhost:8080/",
          "height": 72
        }
      },
      "cell_type": "code",
      "source": [
        "from sklearn.cluster import DBSCAN\n",
        "\n",
        "for eps in numpy.arange(0.2, 2.4, 0.1):\n",
        "  db = DBSCAN(eps=0.3, min_samples=minPts).fit(datanorm)\n",
        "  core_samples_mask = numpy.zeros_like(db.labels_, dtype=bool)\n",
        "  core_samples_mask[db.core_sample_indices_] = True\n",
        "  labels = db.labels_\n",
        "  n_clusters_ = len(set(labels)) - (1 if -1 in labels else 0)\n",
        "  \n",
        "labels"
      ],
      "execution_count": 0,
      "outputs": [
        {
          "output_type": "execute_result",
          "data": {
            "text/plain": [
              "array([ 0,  0,  0,  0, -1,  0,  0,  0, -1, -1,  0,  0,  0, -1,  0,  0,  0,\n",
              "        0,  0,  0, -1, -1,  0,  0,  0,  0,  0,  0,  0,  0,  0,  0, -1, -1,\n",
              "        0,  0,  0,  0,  0,  0,  0,  0,  0, -1,  0,  0, -1,  0,  0,  0,  0])"
            ]
          },
          "metadata": {
            "tags": []
          },
          "execution_count": 82
        }
      ]
    },
    {
      "metadata": {
        "id": "19D9aCoCqtks",
        "colab_type": "text"
      },
      "cell_type": "markdown",
      "source": [
        "Visualizamos los resultados"
      ]
    },
    {
      "metadata": {
        "id": "YEbIQqaYQL_e",
        "colab_type": "code",
        "outputId": "2a641be4-5193-4986-d399-16e08e588e7c",
        "colab": {
          "base_uri": "https://localhost:8080/",
          "height": 347
        }
      },
      "cell_type": "code",
      "source": [
        "#plotting orginal points with color related to label\n",
        "plt.scatter(X_pca[:,0], X_pca[:,1], c=labels,s=50)\n",
        "plt.grid()\n",
        "plt.show()"
      ],
      "execution_count": 0,
      "outputs": [
        {
          "output_type": "display_data",
          "data": {
            "image/png": "[encoded data removed]",
            "text/plain": [
              "<Figure size 576x396 with 1 Axes>"
            ]
          },
          "metadata": {
            "tags": []
          }
        }
      ]
    },
    {
      "metadata": {
        "id": "UjyFrBnCqvv_",
        "colab_type": "text"
      },
      "cell_type": "markdown",
      "source": [
        "Y aunque podríamos proceder a su intepretación en este caso lo que vamos a hacer es identificar aquellos elementos que son outliers"
      ]
    },
    {
      "metadata": {
        "id": "3QELcpJfmOWT",
        "colab_type": "code",
        "outputId": "3f72a485-e77e-4642-b5ab-7be06642d525",
        "colab": {
          "base_uri": "https://localhost:8080/",
          "height": 433
        }
      },
      "cell_type": "code",
      "source": [
        "df['dbscan_group'] = labels\n",
        "\n",
        "df[df['dbscan_group'] == -1]"
      ],
      "execution_count": 0,
      "outputs": [
        {
          "output_type": "execute_result",
          "data": {
            "text/html": [
              "<div>\n",
              "<style scoped>\n",
              "    .dataframe tbody tr th:only-of-type {\n",
              "        vertical-align: middle;\n",
              "    }\n",
              "\n",
              "    .dataframe tbody tr th {\n",
              "        vertical-align: top;\n",
              "    }\n",
              "\n",
              "    .dataframe thead th {\n",
              "        text-align: right;\n",
              "    }\n",
              "</style>\n",
              "<table border=\"1\" class=\"dataframe\">\n",
              "  <thead>\n",
              "    <tr style=\"text-align: right;\">\n",
              "      <th></th>\n",
              "      <th>Agriculture</th>\n",
              "      <th>Mining</th>\n",
              "      <th>Utilities</th>\n",
              "      <th>Construction</th>\n",
              "      <th>Manufacturing</th>\n",
              "      <th>Wholesale trade</th>\n",
              "      <th>Retail</th>\n",
              "      <th>Transportation</th>\n",
              "      <th>Information</th>\n",
              "      <th>Finance</th>\n",
              "      <th>Buss. Services</th>\n",
              "      <th>Education</th>\n",
              "      <th>Arts</th>\n",
              "      <th>Oth Serv.</th>\n",
              "      <th>Fed. civ</th>\n",
              "      <th>Fed. military</th>\n",
              "      <th>State.1</th>\n",
              "      <th>group</th>\n",
              "      <th>kmeans_group</th>\n",
              "      <th>dbscan_group</th>\n",
              "    </tr>\n",
              "    <tr>\n",
              "      <th>State</th>\n",
              "      <th></th>\n",
              "      <th></th>\n",
              "      <th></th>\n",
              "      <th></th>\n",
              "      <th></th>\n",
              "      <th></th>\n",
              "      <th></th>\n",
              "      <th></th>\n",
              "      <th></th>\n",
              "      <th></th>\n",
              "      <th></th>\n",
              "      <th></th>\n",
              "      <th></th>\n",
              "      <th></th>\n",
              "      <th></th>\n",
              "      <th></th>\n",
              "      <th></th>\n",
              "      <th></th>\n",
              "      <th></th>\n",
              "      <th></th>\n",
              "    </tr>\n",
              "  </thead>\n",
              "  <tbody>\n",
              "    <tr>\n",
              "      <th>California</th>\n",
              "      <td>25439</td>\n",
              "      <td>20279</td>\n",
              "      <td>27999</td>\n",
              "      <td>65707</td>\n",
              "      <td>229479</td>\n",
              "      <td>100603</td>\n",
              "      <td>109363</td>\n",
              "      <td>41864</td>\n",
              "      <td>134655</td>\n",
              "      <td>406685</td>\n",
              "      <td>236025</td>\n",
              "      <td>133118</td>\n",
              "      <td>71649</td>\n",
              "      <td>42069</td>\n",
              "      <td>34009</td>\n",
              "      <td>29132</td>\n",
              "      <td>198300</td>\n",
              "      <td>5</td>\n",
              "      <td>0</td>\n",
              "      <td>-1</td>\n",
              "    </tr>\n",
              "    <tr>\n",
              "      <th>District of Columbia</th>\n",
              "      <td>2</td>\n",
              "      <td>0</td>\n",
              "      <td>1372</td>\n",
              "      <td>1011</td>\n",
              "      <td>238</td>\n",
              "      <td>828</td>\n",
              "      <td>1078</td>\n",
              "      <td>325</td>\n",
              "      <td>8073</td>\n",
              "      <td>11226</td>\n",
              "      <td>24224</td>\n",
              "      <td>7659</td>\n",
              "      <td>3687</td>\n",
              "      <td>6748</td>\n",
              "      <td>28892</td>\n",
              "      <td>3958</td>\n",
              "      <td>2604</td>\n",
              "      <td>3</td>\n",
              "      <td>3</td>\n",
              "      <td>-1</td>\n",
              "    </tr>\n",
              "    <tr>\n",
              "      <th>Florida</th>\n",
              "      <td>5458</td>\n",
              "      <td>1278</td>\n",
              "      <td>16011</td>\n",
              "      <td>35659</td>\n",
              "      <td>38284</td>\n",
              "      <td>47080</td>\n",
              "      <td>53163</td>\n",
              "      <td>21177</td>\n",
              "      <td>29121</td>\n",
              "      <td>161861</td>\n",
              "      <td>85390</td>\n",
              "      <td>67777</td>\n",
              "      <td>41358</td>\n",
              "      <td>19643</td>\n",
              "      <td>14272</td>\n",
              "      <td>10225</td>\n",
              "      <td>73926</td>\n",
              "      <td>1</td>\n",
              "      <td>2</td>\n",
              "      <td>-1</td>\n",
              "    </tr>\n",
              "    <tr>\n",
              "      <th>Illinois</th>\n",
              "      <td>5553</td>\n",
              "      <td>2456</td>\n",
              "      <td>11343</td>\n",
              "      <td>24773</td>\n",
              "      <td>81372</td>\n",
              "      <td>44713</td>\n",
              "      <td>34840</td>\n",
              "      <td>21557</td>\n",
              "      <td>22123</td>\n",
              "      <td>142403</td>\n",
              "      <td>84393</td>\n",
              "      <td>54706</td>\n",
              "      <td>21186</td>\n",
              "      <td>15910</td>\n",
              "      <td>10480</td>\n",
              "      <td>3949</td>\n",
              "      <td>55218</td>\n",
              "      <td>1</td>\n",
              "      <td>1</td>\n",
              "      <td>-1</td>\n",
              "    </tr>\n",
              "    <tr>\n",
              "      <th>Maryland</th>\n",
              "      <td>814</td>\n",
              "      <td>190</td>\n",
              "      <td>5828</td>\n",
              "      <td>14168</td>\n",
              "      <td>18895</td>\n",
              "      <td>13327</td>\n",
              "      <td>15578</td>\n",
              "      <td>5763</td>\n",
              "      <td>16862</td>\n",
              "      <td>63883</td>\n",
              "      <td>41803</td>\n",
              "      <td>26648</td>\n",
              "      <td>9466</td>\n",
              "      <td>7377</td>\n",
              "      <td>29024</td>\n",
              "      <td>8064</td>\n",
              "      <td>26724</td>\n",
              "      <td>3</td>\n",
              "      <td>1</td>\n",
              "      <td>-1</td>\n",
              "    </tr>\n",
              "    <tr>\n",
              "      <th>Massachusetts</th>\n",
              "      <td>733</td>\n",
              "      <td>165</td>\n",
              "      <td>4914</td>\n",
              "      <td>12571</td>\n",
              "      <td>40306</td>\n",
              "      <td>20169</td>\n",
              "      <td>16771</td>\n",
              "      <td>6011</td>\n",
              "      <td>18719</td>\n",
              "      <td>89756</td>\n",
              "      <td>59824</td>\n",
              "      <td>46553</td>\n",
              "      <td>13059</td>\n",
              "      <td>7633</td>\n",
              "      <td>7869</td>\n",
              "      <td>7857</td>\n",
              "      <td>30242</td>\n",
              "      <td>3</td>\n",
              "      <td>1</td>\n",
              "      <td>-1</td>\n",
              "    </tr>\n",
              "    <tr>\n",
              "      <th>New York</th>\n",
              "      <td>1996</td>\n",
              "      <td>1035</td>\n",
              "      <td>18033</td>\n",
              "      <td>38050</td>\n",
              "      <td>70415</td>\n",
              "      <td>55710</td>\n",
              "      <td>55085</td>\n",
              "      <td>21153</td>\n",
              "      <td>99235</td>\n",
              "      <td>333404</td>\n",
              "      <td>143021</td>\n",
              "      <td>105701</td>\n",
              "      <td>42176</td>\n",
              "      <td>23629</td>\n",
              "      <td>16271</td>\n",
              "      <td>5966</td>\n",
              "      <td>120780</td>\n",
              "      <td>4</td>\n",
              "      <td>2</td>\n",
              "      <td>-1</td>\n",
              "    </tr>\n",
              "    <tr>\n",
              "      <th>North Carolina</th>\n",
              "      <td>4176</td>\n",
              "      <td>1196</td>\n",
              "      <td>6059</td>\n",
              "      <td>16195</td>\n",
              "      <td>87733</td>\n",
              "      <td>21270</td>\n",
              "      <td>21668</td>\n",
              "      <td>8645</td>\n",
              "      <td>11705</td>\n",
              "      <td>75251</td>\n",
              "      <td>39980</td>\n",
              "      <td>32216</td>\n",
              "      <td>12779</td>\n",
              "      <td>8282</td>\n",
              "      <td>7706</td>\n",
              "      <td>12140</td>\n",
              "      <td>42453</td>\n",
              "      <td>3</td>\n",
              "      <td>1</td>\n",
              "      <td>-1</td>\n",
              "    </tr>\n",
              "    <tr>\n",
              "      <th>Texas</th>\n",
              "      <td>5964</td>\n",
              "      <td>119695</td>\n",
              "      <td>24497</td>\n",
              "      <td>61603</td>\n",
              "      <td>153204</td>\n",
              "      <td>80764</td>\n",
              "      <td>68416</td>\n",
              "      <td>39577</td>\n",
              "      <td>41877</td>\n",
              "      <td>167303</td>\n",
              "      <td>122764</td>\n",
              "      <td>77579</td>\n",
              "      <td>37452</td>\n",
              "      <td>26077</td>\n",
              "      <td>21783</td>\n",
              "      <td>17007</td>\n",
              "      <td>101670</td>\n",
              "      <td>4</td>\n",
              "      <td>2</td>\n",
              "      <td>-1</td>\n",
              "    </tr>\n",
              "    <tr>\n",
              "      <th>Virginia</th>\n",
              "      <td>1476</td>\n",
              "      <td>2463</td>\n",
              "      <td>6316</td>\n",
              "      <td>15999</td>\n",
              "      <td>36951</td>\n",
              "      <td>16413</td>\n",
              "      <td>21234</td>\n",
              "      <td>9661</td>\n",
              "      <td>16299</td>\n",
              "      <td>75490</td>\n",
              "      <td>74156</td>\n",
              "      <td>28107</td>\n",
              "      <td>11817</td>\n",
              "      <td>10679</td>\n",
              "      <td>23877</td>\n",
              "      <td>19954</td>\n",
              "      <td>35173</td>\n",
              "      <td>3</td>\n",
              "      <td>1</td>\n",
              "      <td>-1</td>\n",
              "    </tr>\n",
              "  </tbody>\n",
              "</table>\n",
              "</div>"
            ],
            "text/plain": [
              "                      Agriculture  Mining  Utilities  Construction  \\\n",
              "State                                                                \n",
              "California                  25439   20279      27999         65707   \n",
              "District of Columbia            2       0       1372          1011   \n",
              "Florida                      5458    1278      16011         35659   \n",
              "Illinois                     5553    2456      11343         24773   \n",
              "Maryland                      814     190       5828         14168   \n",
              "Massachusetts                 733     165       4914         12571   \n",
              "New York                     1996    1035      18033         38050   \n",
              "North Carolina               4176    1196       6059         16195   \n",
              "Texas                        5964  119695      24497         61603   \n",
              "Virginia                     1476    2463       6316         15999   \n",
              "\n",
              "                      Manufacturing  Wholesale trade  Retail  Transportation  \\\n",
              "State                                                                          \n",
              "California                   229479           100603  109363           41864   \n",
              "District of Columbia            238              828    1078             325   \n",
              "Florida                       38284            47080   53163           21177   \n",
              "Illinois                      81372            44713   34840           21557   \n",
              "Maryland                      18895            13327   15578            5763   \n",
              "Massachusetts                 40306            20169   16771            6011   \n",
              "New York                      70415            55710   55085           21153   \n",
              "North Carolina                87733            21270   21668            8645   \n",
              "Texas                        153204            80764   68416           39577   \n",
              "Virginia                      36951            16413   21234            9661   \n",
              "\n",
              "                      Information  Finance  Buss. Services  Education   Arts  \\\n",
              "State                                                                          \n",
              "California                 134655   406685          236025     133118  71649   \n",
              "District of Columbia         8073    11226           24224       7659   3687   \n",
              "Florida                     29121   161861           85390      67777  41358   \n",
              "Illinois                    22123   142403           84393      54706  21186   \n",
              "Maryland                    16862    63883           41803      26648   9466   \n",
              "Massachusetts               18719    89756           59824      46553  13059   \n",
              "New York                    99235   333404          143021     105701  42176   \n",
              "North Carolina              11705    75251           39980      32216  12779   \n",
              "Texas                       41877   167303          122764      77579  37452   \n",
              "Virginia                    16299    75490           74156      28107  11817   \n",
              "\n",
              "                      Oth Serv.  Fed. civ  Fed. military  State.1  group  \\\n",
              "State                                                                      \n",
              "California                42069     34009          29132   198300      5   \n",
              "District of Columbia       6748     28892           3958     2604      3   \n",
              "Florida                   19643     14272          10225    73926      1   \n",
              "Illinois                  15910     10480           3949    55218      1   \n",
              "Maryland                   7377     29024           8064    26724      3   \n",
              "Massachusetts              7633      7869           7857    30242      3   \n",
              "New York                  23629     16271           5966   120780      4   \n",
              "North Carolina             8282      7706          12140    42453      3   \n",
              "Texas                     26077     21783          17007   101670      4   \n",
              "Virginia                  10679     23877          19954    35173      3   \n",
              "\n",
              "                      kmeans_group  dbscan_group  \n",
              "State                                             \n",
              "California                       0            -1  \n",
              "District of Columbia             3            -1  \n",
              "Florida                          2            -1  \n",
              "Illinois                         1            -1  \n",
              "Maryland                         1            -1  \n",
              "Massachusetts                    1            -1  \n",
              "New York                         2            -1  \n",
              "North Carolina                   1            -1  \n",
              "Texas                            2            -1  \n",
              "Virginia                         1            -1  "
            ]
          },
          "metadata": {
            "tags": []
          },
          "execution_count": 84
        }
      ]
    },
    {
      "metadata": {
        "id": "KpHbiTttQzTQ",
        "colab_type": "text"
      },
      "cell_type": "markdown",
      "source": [
        "#  Expectation - Maximization"
      ]
    },
    {
      "metadata": {
        "id": "EZM6CoGerLy2",
        "colab_type": "text"
      },
      "cell_type": "markdown",
      "source": [
        "En el clustering probabilístico se parte de un conjunto de un conjunto de observaciones o muestras\n",
        "las cuales son independientes e idénticamente distribuidas aleatoriamente. En este tipo de algoritmos\n",
        "se asume que la probabilidad de que dado un cluster 𝑆𝑖 el conjunto de muestras 𝑌 pertenezca a ella,\n",
        "tiene una forma paramétrica conocida, determinada por un conjunto de parámetros θ𝑖. Este conjunto\n",
        "de parámetros dependerá de la distribución elegida. El objetivo en cuestión es buscar aquellas\n",
        "distribuciones que mejor generan el conjunto de datos, y para ello se utiliza la información obtenida\n",
        "por las muestras observadas para estimar de forma óptima los parámetros θ𝑖 de cada distribución\n",
        "generadora."
      ]
    },
    {
      "metadata": {
        "id": "0Fd5gZMJRXpd",
        "colab_type": "text"
      },
      "cell_type": "markdown",
      "source": [
        "En este caso vamos a optar por utilizar una combinación de Gaussianas bajo el Gaussian Mixture Model.\n",
        "\n",
        "Con el fin de determinar el número de clusters (*k*) vamos a utilizar en este caso el [BIC](https://en.wikipedia.org/wiki/Bayesian_information_criterion) Bayesian Information Criterion. Este criterio compara el ajuste de diferentes modelos pero penalizando la complejidad del modelo (número de parámetros). El modelo con el menor valor de BIC es el que debe ser elegido"
      ]
    },
    {
      "metadata": {
        "id": "f4jDfeX7RH0-",
        "colab_type": "code",
        "outputId": "05b15ee2-e5ce-46d3-d144-25c950547766",
        "colab": {
          "base_uri": "https://localhost:8080/",
          "height": 35
        }
      },
      "cell_type": "code",
      "source": [
        "from sklearn.mixture import GaussianMixture\n",
        "\n",
        "lowest_bic = numpy.infty\n",
        "bic = []\n",
        "best_cv = 'full'\n",
        "best_k = 3\n",
        "cv_types = ['spherical', 'tied', 'diag', 'full']\n",
        "n_components_range = range(1, 7)\n",
        "for cv_type in cv_types:\n",
        "    for k in range(1, 7):\n",
        "        gmm = GaussianMixture(n_components=k, covariance_type=cv_type, init_params='random')\n",
        "        gmm.fit(X_pca)\n",
        "        bic.append(gmm.bic(X_pca))\n",
        "        if bic[-1] < lowest_bic:\n",
        "            lowest_bic = bic[-1]\n",
        "            best_cv = cv_type\n",
        "            best_k = k\n",
        "            \n",
        "print (\"Mejor valor K\", best_k, \"Mejor tipo de Covarianza\", best_cv)"
      ],
      "execution_count": 0,
      "outputs": [
        {
          "output_type": "stream",
          "text": [
            "Mejor valor K 5 Mejor tipo de Covarianza full\n"
          ],
          "name": "stdout"
        }
      ]
    },
    {
      "metadata": {
        "id": "PWS5UJH4SgfB",
        "colab_type": "text"
      },
      "cell_type": "markdown",
      "source": [
        "Además de Calcular el mejor valor de K vamos además a graficar los resultados para obtener más información sobre el análisis realizado de acuerdo a lo recomendado en [enlace](https://scikit-learn.org/stable/auto_examples/mixture/plot_gmm_selection.html)"
      ]
    },
    {
      "metadata": {
        "id": "3ba-JFo5SmkE",
        "colab_type": "code",
        "outputId": "52503741-9225-4f59-b08f-4fd787c86d3b",
        "colab": {
          "base_uri": "https://localhost:8080/",
          "height": 243
        }
      },
      "cell_type": "code",
      "source": [
        "# Plot the BIC scores\n",
        "color_iter = itertools.cycle(['navy', 'turquoise', 'cornflowerblue',\n",
        "                              'darkorange'])\n",
        "bars = []\n",
        "plt.figure(figsize=(18, 6))\n",
        "spl = plt.subplot(2, 1, 1)\n",
        "for i, (cv_type, color) in enumerate(zip(cv_types, color_iter)):\n",
        "    xpos = numpy.array(n_components_range) + .2 * (i - 2)\n",
        "    bars.append(plt.bar(xpos, bic[i * len(n_components_range):\n",
        "                                  (i + 1) * len(n_components_range)],\n",
        "                        width=.2, color=color))\n",
        "plt.xticks(n_components_range)\n",
        "plt.ylim([min(bic) * 1.01 - .01 * max(bic), max(bic)])\n",
        "plt.title('BIC score per model')\n",
        "xpos = numpy.mod(numpy.argmin(bic), len(n_components_range)) + .65 +\\\n",
        "    .2 * numpy.floor(numpy.argmin(bic) / len(n_components_range))\n",
        "plt.text(xpos, min(bic) * 0.97 + .03 * max(bic), '*', fontsize=14)\n",
        "spl.set_xlabel('Número de componentes')\n",
        "spl.legend([b[0] for b in bars], cv_types)"
      ],
      "execution_count": 0,
      "outputs": [
        {
          "output_type": "execute_result",
          "data": {
            "text/plain": [
              "<matplotlib.legend.Legend at 0x7f8827453160>"
            ]
          },
          "metadata": {
            "tags": []
          },
          "execution_count": 11
        },
        {
          "output_type": "display_data",
          "data": {
            "image/png": "[encoded data removed]",
            "text/plain": [
              "<Figure size 1296x432 with 1 Axes>"
            ]
          },
          "metadata": {
            "tags": []
          }
        }
      ]
    },
    {
      "metadata": {
        "id": "1rTFHCF3rO75",
        "colab_type": "text"
      },
      "cell_type": "markdown",
      "source": [
        "Ejecutaremos el algoritmo con los mejores parámetros obtenidos"
      ]
    },
    {
      "metadata": {
        "id": "XQdIFM2sVWWc",
        "colab_type": "code",
        "colab": {}
      },
      "cell_type": "code",
      "source": [
        "EM = GaussianMixture(n_components=best_k, covariance_type=best_cv, init_params='random')\n",
        "EM.fit(X_pca)\n",
        "labels =  EM.predict(X_pca)\n",
        "n_clusters = best_k - (1 if -1 in labels else 0)"
      ],
      "execution_count": 0,
      "outputs": []
    },
    {
      "metadata": {
        "id": "vUdGXMayVpTl",
        "colab_type": "text"
      },
      "cell_type": "markdown",
      "source": [
        "Una vez ejecutado el módelo óptimo del algoritmo visualizamos los resultados utilizando la representación PCA"
      ]
    },
    {
      "metadata": {
        "id": "kM5_q_OdVk4-",
        "colab_type": "code",
        "outputId": "84e62c33-d13d-41af-a045-674dd7627ad8",
        "colab": {
          "base_uri": "https://localhost:8080/",
          "height": 347
        }
      },
      "cell_type": "code",
      "source": [
        "#plotting orginal points with color related to label\n",
        "plt.scatter(X_pca[:,0], X_pca[:,1], c=labels,s=50)\n",
        "plt.grid()\n",
        "plt.show()"
      ],
      "execution_count": 0,
      "outputs": [
        {
          "output_type": "display_data",
          "data": {
            "image/png": "[encoded data removed]",
            "text/plain": [
              "<Figure size 576x396 with 1 Axes>"
            ]
          },
          "metadata": {
            "tags": []
          }
        }
      ]
    },
    {
      "metadata": {
        "id": "pctpZKB9rS1H",
        "colab_type": "text"
      },
      "cell_type": "markdown",
      "source": [
        "Y procedemos a la interpretación de los resultados"
      ]
    },
    {
      "metadata": {
        "id": "im9cnHepmY3l",
        "colab_type": "code",
        "outputId": "812e8d6b-fd5e-4620-d701-bcda0db83fc1",
        "colab": {
          "base_uri": "https://localhost:8080/",
          "height": 375
        }
      },
      "cell_type": "code",
      "source": [
        "df['em_group'] = labels\n",
        "\n",
        "\n",
        "res = df[['Finance', 'Mining', 'Manufacturing', 'em_group']].groupby(('em_group')).mean()\n",
        "res.plot(kind='bar', legend=True)"
      ],
      "execution_count": 0,
      "outputs": [
        {
          "output_type": "execute_result",
          "data": {
            "text/plain": [
              "<matplotlib.axes._subplots.AxesSubplot at 0x7f076214fb00>"
            ]
          },
          "metadata": {
            "tags": []
          },
          "execution_count": 89
        },
        {
          "output_type": "display_data",
          "data": {
            "image/png": "[encoded data removed]",
            "text/plain": [
              "<Figure size 576x396 with 1 Axes>"
            ]
          },
          "metadata": {
            "tags": []
          }
        }
      ]
    }
  ]
}